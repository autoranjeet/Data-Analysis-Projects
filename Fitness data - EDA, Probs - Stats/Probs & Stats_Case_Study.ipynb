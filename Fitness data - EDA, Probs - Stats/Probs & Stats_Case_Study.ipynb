{
 "cells": [
  {
   "cell_type": "markdown",
   "metadata": {},
   "source": [
    "# Aerofit - Case Study"
   ]
  },
  {
   "cell_type": "markdown",
   "metadata": {},
   "source": [
    "## Problem Statement\n",
    "\n",
    "The market research team at AeroFit wants to identify the characteristics of the target audience for each type of treadmill offered by the company, to provide a better recommendation of the treadmills to the new customers. The team decides to investigate whether there are differences across the product with respect to customer characteristics.\n",
    "\n",
    "Perform descriptive analytics to create a customer profile for each AeroFit treadmill product by developing appropriate tables and charts.\n",
    "For each AeroFit treadmill product, construct two-way contingency tables and compute all conditional and marginal probabilities along with their insights/impact on the business.\n",
    "Dataset\n",
    "\n",
    "The company collected the data on individuals who purchased a treadmill from the AeroFit stores during the prior three months. The dataset has the following features:\n",
    "\n",
    "Dataset link: Aerofit_treadmill.csv\n",
    "\n",
    "Product Purchased:\tKP281, KP481, or KP781\n",
    "- Age:\tIn years\n",
    "- Gender:\tMale/Female\n",
    "- Education:\tIn years\n",
    "- MaritalStatus:\tSingle or partnered\n",
    "- Usage:\tThe average number of times the customer plans to use the treadmill each week.\n",
    "- Income:\tAnnual income (in $)\n",
    "- Fitness:\tSelf-rated fitness on a 1-to-5 scale, where 1 is the poor shape and 5 is the excellent shape.\n",
    "- Miles:\tThe average number of miles the customer expects to walk/run each week\n",
    "- Product Portfolio:\n",
    "\n",
    "- The KP281 is an entry-level treadmill that sells for $1,500.\n",
    "- The KP481 is for mid-level runners that sell for $1,750.\n",
    "- The KP781 treadmill is having advanced features that sell for $2,500.\n"
   ]
  },
  {
   "cell_type": "code",
   "execution_count": 1,
   "metadata": {},
   "outputs": [],
   "source": [
    "# Importing the Libraries \n",
    "import pandas as pd\n",
    "import numpy as np\n",
    "import seaborn as sns\n",
    "import matplotlib.pyplot as plt"
   ]
  },
  {
   "cell_type": "code",
   "execution_count": 2,
   "metadata": {},
   "outputs": [
    {
     "data": {
      "text/html": [
       "<div>\n",
       "<style scoped>\n",
       "    .dataframe tbody tr th:only-of-type {\n",
       "        vertical-align: middle;\n",
       "    }\n",
       "\n",
       "    .dataframe tbody tr th {\n",
       "        vertical-align: top;\n",
       "    }\n",
       "\n",
       "    .dataframe thead th {\n",
       "        text-align: right;\n",
       "    }\n",
       "</style>\n",
       "<table border=\"1\" class=\"dataframe\">\n",
       "  <thead>\n",
       "    <tr style=\"text-align: right;\">\n",
       "      <th></th>\n",
       "      <th>Product</th>\n",
       "      <th>Age</th>\n",
       "      <th>Gender</th>\n",
       "      <th>Education</th>\n",
       "      <th>MaritalStatus</th>\n",
       "      <th>Usage</th>\n",
       "      <th>Fitness</th>\n",
       "      <th>Income</th>\n",
       "      <th>Miles</th>\n",
       "    </tr>\n",
       "  </thead>\n",
       "  <tbody>\n",
       "    <tr>\n",
       "      <th>0</th>\n",
       "      <td>KP281</td>\n",
       "      <td>18</td>\n",
       "      <td>Male</td>\n",
       "      <td>14</td>\n",
       "      <td>Single</td>\n",
       "      <td>3</td>\n",
       "      <td>4</td>\n",
       "      <td>29562</td>\n",
       "      <td>112</td>\n",
       "    </tr>\n",
       "    <tr>\n",
       "      <th>1</th>\n",
       "      <td>KP281</td>\n",
       "      <td>19</td>\n",
       "      <td>Male</td>\n",
       "      <td>15</td>\n",
       "      <td>Single</td>\n",
       "      <td>2</td>\n",
       "      <td>3</td>\n",
       "      <td>31836</td>\n",
       "      <td>75</td>\n",
       "    </tr>\n",
       "    <tr>\n",
       "      <th>2</th>\n",
       "      <td>KP281</td>\n",
       "      <td>19</td>\n",
       "      <td>Female</td>\n",
       "      <td>14</td>\n",
       "      <td>Partnered</td>\n",
       "      <td>4</td>\n",
       "      <td>3</td>\n",
       "      <td>30699</td>\n",
       "      <td>66</td>\n",
       "    </tr>\n",
       "    <tr>\n",
       "      <th>3</th>\n",
       "      <td>KP281</td>\n",
       "      <td>19</td>\n",
       "      <td>Male</td>\n",
       "      <td>12</td>\n",
       "      <td>Single</td>\n",
       "      <td>3</td>\n",
       "      <td>3</td>\n",
       "      <td>32973</td>\n",
       "      <td>85</td>\n",
       "    </tr>\n",
       "    <tr>\n",
       "      <th>4</th>\n",
       "      <td>KP281</td>\n",
       "      <td>20</td>\n",
       "      <td>Male</td>\n",
       "      <td>13</td>\n",
       "      <td>Partnered</td>\n",
       "      <td>4</td>\n",
       "      <td>2</td>\n",
       "      <td>35247</td>\n",
       "      <td>47</td>\n",
       "    </tr>\n",
       "  </tbody>\n",
       "</table>\n",
       "</div>"
      ],
      "text/plain": [
       "  Product  Age  Gender  Education MaritalStatus  Usage  Fitness  Income  Miles\n",
       "0   KP281   18    Male         14        Single      3        4   29562    112\n",
       "1   KP281   19    Male         15        Single      2        3   31836     75\n",
       "2   KP281   19  Female         14     Partnered      4        3   30699     66\n",
       "3   KP281   19    Male         12        Single      3        3   32973     85\n",
       "4   KP281   20    Male         13     Partnered      4        2   35247     47"
      ]
     },
     "execution_count": 2,
     "metadata": {},
     "output_type": "execute_result"
    }
   ],
   "source": [
    "# Importing the data\n",
    "df = pd.read_csv('Aerofit_treadmill.csv')\n",
    "df.head()"
   ]
  },
  {
   "cell_type": "markdown",
   "metadata": {},
   "source": [
    "## Checking characteristics of data"
   ]
  },
  {
   "cell_type": "code",
   "execution_count": 3,
   "metadata": {
    "scrolled": true
   },
   "outputs": [
    {
     "name": "stdout",
     "output_type": "stream",
     "text": [
      "<class 'pandas.core.frame.DataFrame'>\n",
      "RangeIndex: 180 entries, 0 to 179\n",
      "Data columns (total 9 columns):\n",
      " #   Column         Non-Null Count  Dtype \n",
      "---  ------         --------------  ----- \n",
      " 0   Product        180 non-null    object\n",
      " 1   Age            180 non-null    int64 \n",
      " 2   Gender         180 non-null    object\n",
      " 3   Education      180 non-null    int64 \n",
      " 4   MaritalStatus  180 non-null    object\n",
      " 5   Usage          180 non-null    int64 \n",
      " 6   Fitness        180 non-null    int64 \n",
      " 7   Income         180 non-null    int64 \n",
      " 8   Miles          180 non-null    int64 \n",
      "dtypes: int64(6), object(3)\n",
      "memory usage: 12.8+ KB\n"
     ]
    }
   ],
   "source": [
    "df.info()"
   ]
  },
  {
   "cell_type": "code",
   "execution_count": 4,
   "metadata": {},
   "outputs": [
    {
     "data": {
      "text/html": [
       "<div>\n",
       "<style scoped>\n",
       "    .dataframe tbody tr th:only-of-type {\n",
       "        vertical-align: middle;\n",
       "    }\n",
       "\n",
       "    .dataframe tbody tr th {\n",
       "        vertical-align: top;\n",
       "    }\n",
       "\n",
       "    .dataframe thead th {\n",
       "        text-align: right;\n",
       "    }\n",
       "</style>\n",
       "<table border=\"1\" class=\"dataframe\">\n",
       "  <thead>\n",
       "    <tr style=\"text-align: right;\">\n",
       "      <th></th>\n",
       "      <th>Product</th>\n",
       "      <th>Age</th>\n",
       "      <th>Gender</th>\n",
       "      <th>Education</th>\n",
       "      <th>MaritalStatus</th>\n",
       "      <th>Usage</th>\n",
       "      <th>Fitness</th>\n",
       "      <th>Income</th>\n",
       "      <th>Miles</th>\n",
       "    </tr>\n",
       "  </thead>\n",
       "  <tbody>\n",
       "    <tr>\n",
       "      <th>count</th>\n",
       "      <td>180</td>\n",
       "      <td>180.000000</td>\n",
       "      <td>180</td>\n",
       "      <td>180.000000</td>\n",
       "      <td>180</td>\n",
       "      <td>180.000000</td>\n",
       "      <td>180.000000</td>\n",
       "      <td>180.000000</td>\n",
       "      <td>180.000000</td>\n",
       "    </tr>\n",
       "    <tr>\n",
       "      <th>unique</th>\n",
       "      <td>3</td>\n",
       "      <td>NaN</td>\n",
       "      <td>2</td>\n",
       "      <td>NaN</td>\n",
       "      <td>2</td>\n",
       "      <td>NaN</td>\n",
       "      <td>NaN</td>\n",
       "      <td>NaN</td>\n",
       "      <td>NaN</td>\n",
       "    </tr>\n",
       "    <tr>\n",
       "      <th>top</th>\n",
       "      <td>KP281</td>\n",
       "      <td>NaN</td>\n",
       "      <td>Male</td>\n",
       "      <td>NaN</td>\n",
       "      <td>Partnered</td>\n",
       "      <td>NaN</td>\n",
       "      <td>NaN</td>\n",
       "      <td>NaN</td>\n",
       "      <td>NaN</td>\n",
       "    </tr>\n",
       "    <tr>\n",
       "      <th>freq</th>\n",
       "      <td>80</td>\n",
       "      <td>NaN</td>\n",
       "      <td>104</td>\n",
       "      <td>NaN</td>\n",
       "      <td>107</td>\n",
       "      <td>NaN</td>\n",
       "      <td>NaN</td>\n",
       "      <td>NaN</td>\n",
       "      <td>NaN</td>\n",
       "    </tr>\n",
       "    <tr>\n",
       "      <th>mean</th>\n",
       "      <td>NaN</td>\n",
       "      <td>28.788889</td>\n",
       "      <td>NaN</td>\n",
       "      <td>15.572222</td>\n",
       "      <td>NaN</td>\n",
       "      <td>3.455556</td>\n",
       "      <td>3.311111</td>\n",
       "      <td>53719.577778</td>\n",
       "      <td>103.194444</td>\n",
       "    </tr>\n",
       "    <tr>\n",
       "      <th>std</th>\n",
       "      <td>NaN</td>\n",
       "      <td>6.943498</td>\n",
       "      <td>NaN</td>\n",
       "      <td>1.617055</td>\n",
       "      <td>NaN</td>\n",
       "      <td>1.084797</td>\n",
       "      <td>0.958869</td>\n",
       "      <td>16506.684226</td>\n",
       "      <td>51.863605</td>\n",
       "    </tr>\n",
       "    <tr>\n",
       "      <th>min</th>\n",
       "      <td>NaN</td>\n",
       "      <td>18.000000</td>\n",
       "      <td>NaN</td>\n",
       "      <td>12.000000</td>\n",
       "      <td>NaN</td>\n",
       "      <td>2.000000</td>\n",
       "      <td>1.000000</td>\n",
       "      <td>29562.000000</td>\n",
       "      <td>21.000000</td>\n",
       "    </tr>\n",
       "    <tr>\n",
       "      <th>25%</th>\n",
       "      <td>NaN</td>\n",
       "      <td>24.000000</td>\n",
       "      <td>NaN</td>\n",
       "      <td>14.000000</td>\n",
       "      <td>NaN</td>\n",
       "      <td>3.000000</td>\n",
       "      <td>3.000000</td>\n",
       "      <td>44058.750000</td>\n",
       "      <td>66.000000</td>\n",
       "    </tr>\n",
       "    <tr>\n",
       "      <th>50%</th>\n",
       "      <td>NaN</td>\n",
       "      <td>26.000000</td>\n",
       "      <td>NaN</td>\n",
       "      <td>16.000000</td>\n",
       "      <td>NaN</td>\n",
       "      <td>3.000000</td>\n",
       "      <td>3.000000</td>\n",
       "      <td>50596.500000</td>\n",
       "      <td>94.000000</td>\n",
       "    </tr>\n",
       "    <tr>\n",
       "      <th>75%</th>\n",
       "      <td>NaN</td>\n",
       "      <td>33.000000</td>\n",
       "      <td>NaN</td>\n",
       "      <td>16.000000</td>\n",
       "      <td>NaN</td>\n",
       "      <td>4.000000</td>\n",
       "      <td>4.000000</td>\n",
       "      <td>58668.000000</td>\n",
       "      <td>114.750000</td>\n",
       "    </tr>\n",
       "    <tr>\n",
       "      <th>max</th>\n",
       "      <td>NaN</td>\n",
       "      <td>50.000000</td>\n",
       "      <td>NaN</td>\n",
       "      <td>21.000000</td>\n",
       "      <td>NaN</td>\n",
       "      <td>7.000000</td>\n",
       "      <td>5.000000</td>\n",
       "      <td>104581.000000</td>\n",
       "      <td>360.000000</td>\n",
       "    </tr>\n",
       "  </tbody>\n",
       "</table>\n",
       "</div>"
      ],
      "text/plain": [
       "       Product         Age Gender   Education MaritalStatus       Usage  \\\n",
       "count      180  180.000000    180  180.000000           180  180.000000   \n",
       "unique       3         NaN      2         NaN             2         NaN   \n",
       "top      KP281         NaN   Male         NaN     Partnered         NaN   \n",
       "freq        80         NaN    104         NaN           107         NaN   \n",
       "mean       NaN   28.788889    NaN   15.572222           NaN    3.455556   \n",
       "std        NaN    6.943498    NaN    1.617055           NaN    1.084797   \n",
       "min        NaN   18.000000    NaN   12.000000           NaN    2.000000   \n",
       "25%        NaN   24.000000    NaN   14.000000           NaN    3.000000   \n",
       "50%        NaN   26.000000    NaN   16.000000           NaN    3.000000   \n",
       "75%        NaN   33.000000    NaN   16.000000           NaN    4.000000   \n",
       "max        NaN   50.000000    NaN   21.000000           NaN    7.000000   \n",
       "\n",
       "           Fitness         Income       Miles  \n",
       "count   180.000000     180.000000  180.000000  \n",
       "unique         NaN            NaN         NaN  \n",
       "top            NaN            NaN         NaN  \n",
       "freq           NaN            NaN         NaN  \n",
       "mean      3.311111   53719.577778  103.194444  \n",
       "std       0.958869   16506.684226   51.863605  \n",
       "min       1.000000   29562.000000   21.000000  \n",
       "25%       3.000000   44058.750000   66.000000  \n",
       "50%       3.000000   50596.500000   94.000000  \n",
       "75%       4.000000   58668.000000  114.750000  \n",
       "max       5.000000  104581.000000  360.000000  "
      ]
     },
     "execution_count": 4,
     "metadata": {},
     "output_type": "execute_result"
    }
   ],
   "source": [
    "df.describe(include = 'all')"
   ]
  },
  {
   "cell_type": "code",
   "execution_count": 5,
   "metadata": {},
   "outputs": [
    {
     "data": {
      "text/plain": [
       "KP281    80\n",
       "KP481    60\n",
       "KP781    40\n",
       "Name: Product, dtype: int64"
      ]
     },
     "execution_count": 5,
     "metadata": {},
     "output_type": "execute_result"
    }
   ],
   "source": [
    "# Checking the unique values in the data\n",
    "df['Product'].value_counts()"
   ]
  },
  {
   "cell_type": "code",
   "execution_count": 6,
   "metadata": {},
   "outputs": [
    {
     "data": {
      "text/plain": [
       "Male      104\n",
       "Female     76\n",
       "Name: Gender, dtype: int64"
      ]
     },
     "execution_count": 6,
     "metadata": {},
     "output_type": "execute_result"
    }
   ],
   "source": [
    "df['Gender'].value_counts()"
   ]
  },
  {
   "cell_type": "code",
   "execution_count": 7,
   "metadata": {},
   "outputs": [
    {
     "data": {
      "text/plain": [
       "Partnered    107\n",
       "Single        73\n",
       "Name: MaritalStatus, dtype: int64"
      ]
     },
     "execution_count": 7,
     "metadata": {},
     "output_type": "execute_result"
    }
   ],
   "source": [
    "df['MaritalStatus'].value_counts()"
   ]
  },
  {
   "cell_type": "markdown",
   "metadata": {},
   "source": [
    "- The dataset has 180 records with with 3 categorical and 6 numerical features\n",
    "- There are no null values in the data so we don't have to change anything.\n",
    "- The datatypes assigned to each of the attributes are right and don't need any intervention.\n",
    "- There are three unique products and the 'KP281' seems to be the best selling product\n",
    "- Most customers are male and most of them are partnered"
   ]
  },
  {
   "cell_type": "code",
   "execution_count": 8,
   "metadata": {},
   "outputs": [
    {
     "name": "stdout",
     "output_type": "stream",
     "text": [
      "['Product', 'Gender', 'MaritalStatus']\n",
      "['Age', 'Education', 'Usage', 'Fitness', 'Income', 'Miles']\n"
     ]
    }
   ],
   "source": [
    "# Dividing numerical and categorical columns\n",
    "cat_cols = [n for n in df.columns if df[n].dtypes == 'object']\n",
    "print(cat_cols)\n",
    "\n",
    "num_cols = [n for n in df.columns if n not in cat_cols]\n",
    "print(num_cols)"
   ]
  },
  {
   "cell_type": "code",
   "execution_count": 9,
   "metadata": {},
   "outputs": [],
   "source": [
    "# Adding cost column\n",
    "df['Cost'] = np.nan\n",
    "df.loc[df['Product'] == 'KP281', 'Cost'] = 1500\n",
    "df.loc[df['Product'] == 'KP481', 'Cost'] = 1750\n",
    "df.loc[df['Product'] == 'KP781', 'Cost'] = 2500"
   ]
  },
  {
   "cell_type": "markdown",
   "metadata": {},
   "source": [
    "### Checking the distribution of numerical features"
   ]
  },
  {
   "cell_type": "code",
   "execution_count": 10,
   "metadata": {},
   "outputs": [],
   "source": [
    "prod_dist = df['Product'].value_counts(normalize = True)\n",
    "keys = list(prod_dist.keys())\n",
    "values = list(prod_dist.values)"
   ]
  },
  {
   "cell_type": "code",
   "execution_count": 11,
   "metadata": {},
   "outputs": [
    {
     "data": {
      "image/png": "[encoded data removed]",
      "text/plain": [
       "<Figure size 1000x600 with 1 Axes>"
      ]
     },
     "metadata": {},
     "output_type": "display_data"
    }
   ],
   "source": [
    "# Distribution of Products\n",
    "plt.figure(figsize = (10,6))\n",
    "plt.pie(values,\n",
    "       labels= keys ,\n",
    "       colors=[\"c\",\"m\",\"g\"],\n",
    "       startangle=90,\n",
    "       shadow=True,\n",
    "       explode=(0.1,0,0),\n",
    "       autopct='%.2f')\n",
    "plt.show()"
   ]
  },
  {
   "cell_type": "markdown",
   "metadata": {},
   "source": [
    "- 44.44 % of the customer buy KP281 product which is cheaper as compared to other two, indicating cost sensitive market"
   ]
  },
  {
   "cell_type": "code",
   "execution_count": 12,
   "metadata": {},
   "outputs": [
    {
     "data": {
      "image/png": "[encoded data removed]",
      "text/plain": [
       "<Figure size 1400x2000 with 6 Axes>"
      ]
     },
     "metadata": {},
     "output_type": "display_data"
    }
   ],
   "source": [
    "# Checking the distribution of numerical features\n",
    "plt.figure(figsize = (14,20))\n",
    "for i in range(len(num_cols)):\n",
    "    plt.subplot(4,2,i+1)\n",
    "    plt.hist(df[num_cols[i]])\n",
    "    plt.title(f'{num_cols[i]} Distribution')\n",
    "plt.tight_layout()"
   ]
  },
  {
   "cell_type": "markdown",
   "metadata": {},
   "source": [
    "The above plots suggests:\n",
    "- Most customers are young and lie between the age range of 20 to 30 years old\n",
    "- Majority of the customer have studied for 14 ro 16 years\n",
    "- Most customers will use the treadmills for 3-4 hours and less number of people will be using treadmills for more than 4 hours.\n",
    "- Majority of the customers consider their fitness in the average fitness range, while very less people with lower fitness levels are customers.\n",
    "- The income distribution is right skewed indicating the majority of customers have income range between 30K and 60K. And there are very less people with income more that 60K\n",
    "- Similar to income the distribution for the average miles covered by the customers is right skewed, again indicating majority of the people tend to cover 50 to 120 miles per week on an average. Very few people cover more than 200 miles.\n"
   ]
  },
  {
   "cell_type": "markdown",
   "metadata": {},
   "source": [
    "### Outlier Detection"
   ]
  },
  {
   "cell_type": "code",
   "execution_count": 13,
   "metadata": {
    "scrolled": false
   },
   "outputs": [
    {
     "name": "stderr",
     "output_type": "stream",
     "text": [
      "C:\\ProgramData\\Anaconda3\\lib\\site-packages\\seaborn\\_decorators.py:36: FutureWarning: Pass the following variable as a keyword arg: x. From version 0.12, the only valid positional argument will be `data`, and passing other arguments without an explicit keyword will result in an error or misinterpretation.\n",
      "  warnings.warn(\n",
      "C:\\ProgramData\\Anaconda3\\lib\\site-packages\\seaborn\\_core.py:1326: UserWarning: Vertical orientation ignored with only `x` specified.\n",
      "  warnings.warn(single_var_warning.format(\"Vertical\", \"x\"))\n",
      "C:\\ProgramData\\Anaconda3\\lib\\site-packages\\seaborn\\_decorators.py:36: FutureWarning: Pass the following variable as a keyword arg: x. From version 0.12, the only valid positional argument will be `data`, and passing other arguments without an explicit keyword will result in an error or misinterpretation.\n",
      "  warnings.warn(\n",
      "C:\\ProgramData\\Anaconda3\\lib\\site-packages\\seaborn\\_core.py:1326: UserWarning: Vertical orientation ignored with only `x` specified.\n",
      "  warnings.warn(single_var_warning.format(\"Vertical\", \"x\"))\n",
      "C:\\ProgramData\\Anaconda3\\lib\\site-packages\\seaborn\\_decorators.py:36: FutureWarning: Pass the following variable as a keyword arg: x. From version 0.12, the only valid positional argument will be `data`, and passing other arguments without an explicit keyword will result in an error or misinterpretation.\n",
      "  warnings.warn(\n",
      "C:\\ProgramData\\Anaconda3\\lib\\site-packages\\seaborn\\_core.py:1326: UserWarning: Vertical orientation ignored with only `x` specified.\n",
      "  warnings.warn(single_var_warning.format(\"Vertical\", \"x\"))\n",
      "C:\\ProgramData\\Anaconda3\\lib\\site-packages\\seaborn\\_decorators.py:36: FutureWarning: Pass the following variable as a keyword arg: x. From version 0.12, the only valid positional argument will be `data`, and passing other arguments without an explicit keyword will result in an error or misinterpretation.\n",
      "  warnings.warn(\n",
      "C:\\ProgramData\\Anaconda3\\lib\\site-packages\\seaborn\\_core.py:1326: UserWarning: Vertical orientation ignored with only `x` specified.\n",
      "  warnings.warn(single_var_warning.format(\"Vertical\", \"x\"))\n",
      "C:\\ProgramData\\Anaconda3\\lib\\site-packages\\seaborn\\_decorators.py:36: FutureWarning: Pass the following variable as a keyword arg: x. From version 0.12, the only valid positional argument will be `data`, and passing other arguments without an explicit keyword will result in an error or misinterpretation.\n",
      "  warnings.warn(\n",
      "C:\\ProgramData\\Anaconda3\\lib\\site-packages\\seaborn\\_core.py:1326: UserWarning: Vertical orientation ignored with only `x` specified.\n",
      "  warnings.warn(single_var_warning.format(\"Vertical\", \"x\"))\n",
      "C:\\ProgramData\\Anaconda3\\lib\\site-packages\\seaborn\\_decorators.py:36: FutureWarning: Pass the following variable as a keyword arg: x. From version 0.12, the only valid positional argument will be `data`, and passing other arguments without an explicit keyword will result in an error or misinterpretation.\n",
      "  warnings.warn(\n",
      "C:\\ProgramData\\Anaconda3\\lib\\site-packages\\seaborn\\_core.py:1326: UserWarning: Vertical orientation ignored with only `x` specified.\n",
      "  warnings.warn(single_var_warning.format(\"Vertical\", \"x\"))\n"
     ]
    },
    {
     "data": {
      "image/png": "[encoded data removed]",
      "text/plain": [
       "<Figure size 1400x2000 with 6 Axes>"
      ]
     },
     "metadata": {},
     "output_type": "display_data"
    }
   ],
   "source": [
    "# Outlier Detection\n",
    "\n",
    "plt.figure(figsize = (14,20))\n",
    "for i in range(len(num_cols)):\n",
    "    plt.subplot(4,2,i+1)\n",
    "    sns.boxplot(df[num_cols[i]], orient = 'v')\n",
    "plt.tight_layout()"
   ]
  },
  {
   "cell_type": "code",
   "execution_count": 14,
   "metadata": {},
   "outputs": [],
   "source": [
    "outlier_count = {}\n",
    "outlier_percentage = {}\n",
    "for i in num_cols:\n",
    "    q1 = np.quantile(df[i],0.25)\n",
    "    q2 = np.quantile(df[i],0.5)\n",
    "    q3 = np.quantile(df[i],0.75)\n",
    "    IQR = q3-q1\n",
    "    Upper_wisker = q3 + 1.5*IQR\n",
    "    \n",
    "    out_count = len(df[df[i] > Upper_wisker])\n",
    "    percentage_out = round(len(df[df[i] > Upper_wisker])/len(df),2)\n",
    "    \n",
    "    outlier_count[i] = out_count\n",
    "    outlier_percentage[i] = percentage_out"
   ]
  },
  {
   "cell_type": "code",
   "execution_count": 15,
   "metadata": {},
   "outputs": [
    {
     "data": {
      "image/png": "[encoded data removed]",
      "text/plain": [
       "<Figure size 1600x500 with 2 Axes>"
      ]
     },
     "metadata": {},
     "output_type": "display_data"
    }
   ],
   "source": [
    "# Checking outlier numbers\n",
    "plt.figure(figsize = (16,5))\n",
    "\n",
    "plt.subplot(1,2,1)\n",
    "sns.barplot(x = list(outlier_count.keys()), y = list(outlier_count.values()))\n",
    "plt.ylabel('Outlier Count')\n",
    "plt.title('Outlier Counts')\n",
    "\n",
    "plt.subplot(1,2,2)\n",
    "sns.barplot(x = list(outlier_percentage.keys()), y = np.array(list(outlier_percentage.values()))*100)\n",
    "plt.ylabel('Outlier Percentage')\n",
    "plt.title('Outlier Percentage')\n",
    "\n",
    "plt.show()"
   ]
  },
  {
   "cell_type": "markdown",
   "metadata": {},
   "source": [
    "- We have Income and Miles fields with more than 10% outliers which we can fix by replacing them with mean, but in this case we will keep all the data as the data size is small."
   ]
  },
  {
   "cell_type": "markdown",
   "metadata": {},
   "source": [
    "### Checking if features like marital status, age have any effect on the product purchased"
   ]
  },
  {
   "cell_type": "code",
   "execution_count": 16,
   "metadata": {},
   "outputs": [
    {
     "name": "stderr",
     "output_type": "stream",
     "text": [
      "C:\\ProgramData\\Anaconda3\\lib\\site-packages\\seaborn\\_decorators.py:36: FutureWarning: Pass the following variable as a keyword arg: x. From version 0.12, the only valid positional argument will be `data`, and passing other arguments without an explicit keyword will result in an error or misinterpretation.\n",
      "  warnings.warn(\n"
     ]
    },
    {
     "data": {
      "image/png": "[encoded data removed]",
      "text/plain": [
       "<Figure size 1600x1200 with 3 Axes>"
      ]
     },
     "metadata": {},
     "output_type": "display_data"
    }
   ],
   "source": [
    "plt.figure(figsize = (16,12))\n",
    "\n",
    "plt.subplot(2,2,1)\n",
    "sns.boxplot(y = df['Age'], x = df['Product'], orient = 'v')\n",
    "plt.title('Age Range per Product', )\n",
    "\n",
    "plt.subplot(2,2,2)\n",
    "sns.countplot(df['Product'], hue = df['Gender'])\n",
    "plt.title('Products Purchased Per Gender')\n",
    "\n",
    "## Income range for each product\n",
    "# plt.figure(figsize = (8,5))\n",
    "plt.subplot(2,2,3)\n",
    "sns.boxplot(x = df['Product'], y = df['Income'])\n",
    "plt.title('Income Range Per Product')\n",
    "plt.show()"
   ]
  },
  {
   "cell_type": "markdown",
   "metadata": {},
   "source": [
    "**Age**\n",
    "- For the products KP281 & KP481 mostly the customer age lies in the range of 23 to 33 years.\n",
    "- While the customers purchasing product-KP781 are on the younger side ranging in between 25 to 30 years old.\n",
    "\n",
    "**Gender**\n",
    "- For the products KP281 & KP481 the customers are equally distributed in terms of gender, however, for product KP781 the number of male customers is way higher than the number of females.\n",
    "\n",
    "**Income**\n",
    "- Customers with higher income range of 60000 to 90000 are buying the KP781 product. \n",
    "- Mostly the income for KP281 customers lie in between 40000 to 52000 and for KP482 customers it lies in between 47000 to 52000."
   ]
  },
  {
   "cell_type": "code",
   "execution_count": 17,
   "metadata": {},
   "outputs": [
    {
     "data": {
      "image/png": "[encoded data removed]",
      "text/plain": [
       "<Figure size 1800x2000 with 6 Axes>"
      ]
     },
     "metadata": {},
     "output_type": "display_data"
    }
   ],
   "source": [
    "plt.figure(figsize = (18,20))\n",
    "\n",
    "plt.subplot(3,2,1)\n",
    "sns.boxplot(y = df['Usage'], x = df['Product'], hue = df['Gender'])\n",
    "plt.title('Product Usage Per Gender')\n",
    "\n",
    "plt.subplot(3,2,2)\n",
    "sns.boxplot(y = df['Usage'], x = df['Product'], hue = df['MaritalStatus'])\n",
    "plt.title('Product Usage Per Marital Status')\n",
    "\n",
    "plt.subplot(3,2,3)\n",
    "sns.boxplot(y = df['Fitness'], x = df['Product'], hue = df['Gender'])\n",
    "plt.title('Fitness level Per Gender Per Product')\n",
    "\n",
    "plt.subplot(3,2,4)\n",
    "sns.boxplot(y = df['Fitness'], x = df['Product'],hue = df['MaritalStatus'])\n",
    "plt.title('Fitness level Per Marital Status Per Product')\n",
    "\n",
    "plt.subplot(3,2,5)\n",
    "sns.boxplot(y = df['Miles'], x = df['Product'], hue = df['Gender'])\n",
    "plt.title('Miles Covered Per Gender Per Product', )\n",
    "\n",
    "plt.subplot(3,2,6)\n",
    "sns.boxplot(y = df['Miles'], x = df['Product'], hue = df['MaritalStatus'])\n",
    "plt.title('Miles Covered Per Maritial Status Per Product')\n",
    "\n",
    "plt.show()"
   ]
  },
  {
   "cell_type": "markdown",
   "metadata": {},
   "source": [
    "The above plots suggest :\n",
    "\n",
    "**Usage**\n",
    "- Females customers buying higher end product have more usage as compared to men, and it's completely opposite for the lower end products.\n",
    "- Partenered customers have more usage as compared to single customers\n",
    "\n",
    "**Fitness Level**\n",
    "- The customers from both the genders buying the higher end product i.e. KP781 claim to have better fitness level than customers with lower end product i.e. KP281 & KP481\n",
    "- Similar is the case with marital status\n",
    "\n",
    "**Miles Covered**\n",
    "- Both male and female customers having higher end product cover more miles per week that the customers with lower end product\n",
    "- Similar is the case with marital status"
   ]
  },
  {
   "cell_type": "markdown",
   "metadata": {},
   "source": [
    "### Analysing continuous variables"
   ]
  },
  {
   "cell_type": "code",
   "execution_count": 67,
   "metadata": {},
   "outputs": [
    {
     "data": {
      "image/png": "[encoded data removed]",
      "text/plain": [
       "<Figure size 1600x1200 with 3 Axes>"
      ]
     },
     "metadata": {},
     "output_type": "display_data"
    }
   ],
   "source": [
    "plt.figure(figsize = (16,12))\n",
    "\n",
    "\n",
    "plt.scatter(df['Age'], df['Income'], linewidths = 2, marker =\"o\", edgecolor =\"green\", s = 50)\n",
    "\n",
    "plt.subplot(2,2,1)\n",
    "plt.scatter(df['Age'], df['Income'], linewidths = 2, marker =\"o\", edgecolor =\"green\", s = 50)\n",
    "plt.title('Age vs Income')\n",
    "\n",
    "plt.subplot(2,2,2)\n",
    "plt.scatter(df['Age'], df['Miles'], linewidths = 2, marker =\"o\", edgecolor =\"green\", s = 50)\n",
    "plt.title('Age vs Miles')\n",
    "\n",
    "plt.subplot(2,2,3)\n",
    "plt.scatter(df['Income'], df['Miles'], linewidths = 2, marker =\"o\", edgecolor =\"green\", s = 50)\n",
    "plt.title('Income vs Miles')\n",
    "plt.show()"
   ]
  },
  {
   "cell_type": "markdown",
   "metadata": {},
   "source": [
    "- The variance of income in lower ages is smaller as compared to the variance in higher ages, probably something called as **Heteroscadasticity**.\n",
    "- No significant pattern or observation between Age and Miles run on a treadmill, also implied by heatmap with a correlation of 0.037.\n",
    "- The miles run on treadmill increase significantly with income, infact only people having incomes above 70000 have run over 220 miles. Moreover there's also a **Heteroscadastic** effect."
   ]
  },
  {
   "cell_type": "code",
   "execution_count": 19,
   "metadata": {},
   "outputs": [
    {
     "data": {
      "image/png": "[encoded data removed]",
      "text/plain": [
       "<Figure size 1600x800 with 2 Axes>"
      ]
     },
     "metadata": {},
     "output_type": "display_data"
    }
   ],
   "source": [
    "### Checking the relationship between the features\n",
    "plt.figure(figsize = (16,8))\n",
    "sns.heatmap(df.corr(), cmap=\"YlGnBu\", annot = True)\n",
    "plt.show()"
   ]
  },
  {
   "cell_type": "markdown",
   "metadata": {},
   "source": [
    "The above plot shows:\n",
    "- Miles covered and fitness fields have high corelation, indicating the more miles you cover the better will be the fitness\n",
    "- Also, miles and usage have higer corelation, suggesting higher the usage, higher will be the miles covered.\n",
    "- Cost and income too has higher corelation, again suggesting higher the income, more costly will be the product bought."
   ]
  },
  {
   "cell_type": "markdown",
   "metadata": {},
   "source": [
    "# Probabilities"
   ]
  },
  {
   "cell_type": "code",
   "execution_count": 20,
   "metadata": {},
   "outputs": [],
   "source": [
    "# Creating age bins\n",
    "age_bins = [15,30,40,55]\n",
    "df['Age_type'] = pd.cut(df['Age'], bins = age_bins, labels = ['Young','Middle_Aged','Old'])\n",
    "\n",
    "# Creating income bins\n",
    "income_bins = [0,50000,80000,120000]\n",
    "df['Income_Level'] = pd.cut(df['Income'], income_bins, labels = ['Low','Medium','High'])\n",
    "\n",
    "# Creating price bins\n",
    "Cost_bins = [0,1700,2200,3000]\n",
    "df['Price_Range'] = pd.cut(df['Cost'], Cost_bins, labels = ['Lower_end','Average','Higher_end'])"
   ]
  },
  {
   "cell_type": "code",
   "execution_count": 21,
   "metadata": {},
   "outputs": [],
   "source": [
    "# Creating categories for numerical columns\n",
    "\n",
    "# Creating Usage category\n",
    "df['Usage_type'] = np.nan\n",
    "df.loc[df['Usage'].isin([1,2,3]), 'Usage_type'] = 'Low'\n",
    "df.loc[df['Usage'].isin([4,5,6]), 'Usage_type'] = 'Medium'\n",
    "df.loc[df['Usage'].isin([7,8,9,10]), 'Usage_type'] = 'High'\n",
    "\n",
    "\n",
    "df['Fitness_level'] = np.nan\n",
    "df.loc[df['Fitness'].isin([1,2]), 'Fitness_level'] = 'Low'\n",
    "df.loc[df['Fitness'] == 3, 'Fitness_level'] = 'Medium'\n",
    "df.loc[df['Fitness'].isin([4,5]), 'Fitness_level'] = 'High'"
   ]
  },
  {
   "cell_type": "code",
   "execution_count": 22,
   "metadata": {},
   "outputs": [
    {
     "data": {
      "text/html": [
       "<div>\n",
       "<style scoped>\n",
       "    .dataframe tbody tr th:only-of-type {\n",
       "        vertical-align: middle;\n",
       "    }\n",
       "\n",
       "    .dataframe tbody tr th {\n",
       "        vertical-align: top;\n",
       "    }\n",
       "\n",
       "    .dataframe thead th {\n",
       "        text-align: right;\n",
       "    }\n",
       "</style>\n",
       "<table border=\"1\" class=\"dataframe\">\n",
       "  <thead>\n",
       "    <tr style=\"text-align: right;\">\n",
       "      <th></th>\n",
       "      <th>Product</th>\n",
       "      <th>Age</th>\n",
       "      <th>Gender</th>\n",
       "      <th>Education</th>\n",
       "      <th>MaritalStatus</th>\n",
       "      <th>Usage</th>\n",
       "      <th>Fitness</th>\n",
       "      <th>Income</th>\n",
       "      <th>Miles</th>\n",
       "      <th>Cost</th>\n",
       "      <th>Age_type</th>\n",
       "      <th>Income_Level</th>\n",
       "      <th>Price_Range</th>\n",
       "      <th>Usage_type</th>\n",
       "      <th>Fitness_level</th>\n",
       "    </tr>\n",
       "  </thead>\n",
       "  <tbody>\n",
       "    <tr>\n",
       "      <th>0</th>\n",
       "      <td>KP281</td>\n",
       "      <td>18</td>\n",
       "      <td>Male</td>\n",
       "      <td>14</td>\n",
       "      <td>Single</td>\n",
       "      <td>3</td>\n",
       "      <td>4</td>\n",
       "      <td>29562</td>\n",
       "      <td>112</td>\n",
       "      <td>1500.0</td>\n",
       "      <td>Young</td>\n",
       "      <td>Low</td>\n",
       "      <td>Lower_end</td>\n",
       "      <td>Low</td>\n",
       "      <td>High</td>\n",
       "    </tr>\n",
       "    <tr>\n",
       "      <th>1</th>\n",
       "      <td>KP281</td>\n",
       "      <td>19</td>\n",
       "      <td>Male</td>\n",
       "      <td>15</td>\n",
       "      <td>Single</td>\n",
       "      <td>2</td>\n",
       "      <td>3</td>\n",
       "      <td>31836</td>\n",
       "      <td>75</td>\n",
       "      <td>1500.0</td>\n",
       "      <td>Young</td>\n",
       "      <td>Low</td>\n",
       "      <td>Lower_end</td>\n",
       "      <td>Low</td>\n",
       "      <td>Medium</td>\n",
       "    </tr>\n",
       "    <tr>\n",
       "      <th>2</th>\n",
       "      <td>KP281</td>\n",
       "      <td>19</td>\n",
       "      <td>Female</td>\n",
       "      <td>14</td>\n",
       "      <td>Partnered</td>\n",
       "      <td>4</td>\n",
       "      <td>3</td>\n",
       "      <td>30699</td>\n",
       "      <td>66</td>\n",
       "      <td>1500.0</td>\n",
       "      <td>Young</td>\n",
       "      <td>Low</td>\n",
       "      <td>Lower_end</td>\n",
       "      <td>Medium</td>\n",
       "      <td>Medium</td>\n",
       "    </tr>\n",
       "    <tr>\n",
       "      <th>3</th>\n",
       "      <td>KP281</td>\n",
       "      <td>19</td>\n",
       "      <td>Male</td>\n",
       "      <td>12</td>\n",
       "      <td>Single</td>\n",
       "      <td>3</td>\n",
       "      <td>3</td>\n",
       "      <td>32973</td>\n",
       "      <td>85</td>\n",
       "      <td>1500.0</td>\n",
       "      <td>Young</td>\n",
       "      <td>Low</td>\n",
       "      <td>Lower_end</td>\n",
       "      <td>Low</td>\n",
       "      <td>Medium</td>\n",
       "    </tr>\n",
       "    <tr>\n",
       "      <th>4</th>\n",
       "      <td>KP281</td>\n",
       "      <td>20</td>\n",
       "      <td>Male</td>\n",
       "      <td>13</td>\n",
       "      <td>Partnered</td>\n",
       "      <td>4</td>\n",
       "      <td>2</td>\n",
       "      <td>35247</td>\n",
       "      <td>47</td>\n",
       "      <td>1500.0</td>\n",
       "      <td>Young</td>\n",
       "      <td>Low</td>\n",
       "      <td>Lower_end</td>\n",
       "      <td>Medium</td>\n",
       "      <td>Low</td>\n",
       "    </tr>\n",
       "  </tbody>\n",
       "</table>\n",
       "</div>"
      ],
      "text/plain": [
       "  Product  Age  Gender  Education MaritalStatus  Usage  Fitness  Income  \\\n",
       "0   KP281   18    Male         14        Single      3        4   29562   \n",
       "1   KP281   19    Male         15        Single      2        3   31836   \n",
       "2   KP281   19  Female         14     Partnered      4        3   30699   \n",
       "3   KP281   19    Male         12        Single      3        3   32973   \n",
       "4   KP281   20    Male         13     Partnered      4        2   35247   \n",
       "\n",
       "   Miles    Cost Age_type Income_Level Price_Range Usage_type Fitness_level  \n",
       "0    112  1500.0    Young          Low   Lower_end        Low          High  \n",
       "1     75  1500.0    Young          Low   Lower_end        Low        Medium  \n",
       "2     66  1500.0    Young          Low   Lower_end     Medium        Medium  \n",
       "3     85  1500.0    Young          Low   Lower_end        Low        Medium  \n",
       "4     47  1500.0    Young          Low   Lower_end     Medium           Low  "
      ]
     },
     "execution_count": 22,
     "metadata": {},
     "output_type": "execute_result"
    }
   ],
   "source": [
    "df.head()"
   ]
  },
  {
   "cell_type": "markdown",
   "metadata": {},
   "source": [
    "### Marginal Probabilities"
   ]
  },
  {
   "cell_type": "code",
   "execution_count": 23,
   "metadata": {
    "scrolled": true
   },
   "outputs": [
    {
     "data": {
      "text/html": [
       "<div>\n",
       "<style scoped>\n",
       "    .dataframe tbody tr th:only-of-type {\n",
       "        vertical-align: middle;\n",
       "    }\n",
       "\n",
       "    .dataframe tbody tr th {\n",
       "        vertical-align: top;\n",
       "    }\n",
       "\n",
       "    .dataframe thead th {\n",
       "        text-align: right;\n",
       "    }\n",
       "</style>\n",
       "<table border=\"1\" class=\"dataframe\">\n",
       "  <thead>\n",
       "    <tr style=\"text-align: right;\">\n",
       "      <th>Product</th>\n",
       "      <th>KP281</th>\n",
       "      <th>KP481</th>\n",
       "      <th>KP781</th>\n",
       "      <th>All</th>\n",
       "    </tr>\n",
       "    <tr>\n",
       "      <th>Gender</th>\n",
       "      <th></th>\n",
       "      <th></th>\n",
       "      <th></th>\n",
       "      <th></th>\n",
       "    </tr>\n",
       "  </thead>\n",
       "  <tbody>\n",
       "    <tr>\n",
       "      <th>Female</th>\n",
       "      <td>40</td>\n",
       "      <td>29</td>\n",
       "      <td>7</td>\n",
       "      <td>76</td>\n",
       "    </tr>\n",
       "    <tr>\n",
       "      <th>Male</th>\n",
       "      <td>40</td>\n",
       "      <td>31</td>\n",
       "      <td>33</td>\n",
       "      <td>104</td>\n",
       "    </tr>\n",
       "    <tr>\n",
       "      <th>All</th>\n",
       "      <td>80</td>\n",
       "      <td>60</td>\n",
       "      <td>40</td>\n",
       "      <td>180</td>\n",
       "    </tr>\n",
       "  </tbody>\n",
       "</table>\n",
       "</div>"
      ],
      "text/plain": [
       "Product  KP281  KP481  KP781  All\n",
       "Gender                           \n",
       "Female      40     29      7   76\n",
       "Male        40     31     33  104\n",
       "All         80     60     40  180"
      ]
     },
     "execution_count": 23,
     "metadata": {},
     "output_type": "execute_result"
    }
   ],
   "source": [
    "# Probability of being a female and male customer\n",
    "pd.crosstab(df['Gender'], df['Product'], margins = True)"
   ]
  },
  {
   "cell_type": "code",
   "execution_count": 24,
   "metadata": {},
   "outputs": [
    {
     "name": "stdout",
     "output_type": "stream",
     "text": [
      "Probability of being a male customer is : 57.78 %\n",
      "Probability of being a female customer is : 42.22 %\n"
     ]
    }
   ],
   "source": [
    "# Probability of being a male customer\n",
    "# From the above table\n",
    "total_males = 104\n",
    "total_customers = 180\n",
    "\n",
    "Prob_male_customer = (total_males/total_customers)*100\n",
    "\n",
    "# Probability of being a male customer\n",
    "total_females = 76\n",
    "Prob_female_customer = (total_females/total_customers)*100\n",
    "\n",
    "print(f'Probability of being a male customer is : {round(Prob_male_customer,2)} %')\n",
    "print(f'Probability of being a female customer is : {round(Prob_female_customer,2)} %')"
   ]
  },
  {
   "cell_type": "code",
   "execution_count": 25,
   "metadata": {},
   "outputs": [
    {
     "name": "stdout",
     "output_type": "stream",
     "text": [
      "Probability of buying KP281 model : 44.44 %\n",
      "Probability of buying KP281 model : 33.33 %\n",
      "Probability of buying KP781 model : 22.22 %\n"
     ]
    }
   ],
   "source": [
    "# Probability of buying different products\n",
    "total_products = 180\n",
    "KP281_count = 80\n",
    "KP481_count = 60\n",
    "KP781_count = 40\n",
    "\n",
    "Prob_buying_KP281 = (KP281_count/total_products)*100\n",
    "Prob_buying_KP481 = (KP481_count/total_products)*100\n",
    "Prob_buying_KP781 = (KP781_count/total_products)*100\n",
    "\n",
    "print(f'Probability of buying KP281 model : {round(Prob_buying_KP281,2)} %')\n",
    "print(f'Probability of buying KP281 model : {round(Prob_buying_KP481,2)} %')\n",
    "print(f'Probability of buying KP781 model : {round(Prob_buying_KP781,2)} %')"
   ]
  },
  {
   "cell_type": "code",
   "execution_count": 26,
   "metadata": {},
   "outputs": [
    {
     "data": {
      "text/html": [
       "<div>\n",
       "<style scoped>\n",
       "    .dataframe tbody tr th:only-of-type {\n",
       "        vertical-align: middle;\n",
       "    }\n",
       "\n",
       "    .dataframe tbody tr th {\n",
       "        vertical-align: top;\n",
       "    }\n",
       "\n",
       "    .dataframe thead th {\n",
       "        text-align: right;\n",
       "    }\n",
       "</style>\n",
       "<table border=\"1\" class=\"dataframe\">\n",
       "  <thead>\n",
       "    <tr style=\"text-align: right;\">\n",
       "      <th>Price_Range</th>\n",
       "      <th>Lower_end</th>\n",
       "      <th>Average</th>\n",
       "      <th>Higher_end</th>\n",
       "      <th>All</th>\n",
       "    </tr>\n",
       "    <tr>\n",
       "      <th>Usage_type</th>\n",
       "      <th></th>\n",
       "      <th></th>\n",
       "      <th></th>\n",
       "      <th></th>\n",
       "    </tr>\n",
       "  </thead>\n",
       "  <tbody>\n",
       "    <tr>\n",
       "      <th>High</th>\n",
       "      <td>0</td>\n",
       "      <td>0</td>\n",
       "      <td>2</td>\n",
       "      <td>2</td>\n",
       "    </tr>\n",
       "    <tr>\n",
       "      <th>Low</th>\n",
       "      <td>56</td>\n",
       "      <td>45</td>\n",
       "      <td>1</td>\n",
       "      <td>102</td>\n",
       "    </tr>\n",
       "    <tr>\n",
       "      <th>Medium</th>\n",
       "      <td>24</td>\n",
       "      <td>15</td>\n",
       "      <td>37</td>\n",
       "      <td>76</td>\n",
       "    </tr>\n",
       "    <tr>\n",
       "      <th>All</th>\n",
       "      <td>80</td>\n",
       "      <td>60</td>\n",
       "      <td>40</td>\n",
       "      <td>180</td>\n",
       "    </tr>\n",
       "  </tbody>\n",
       "</table>\n",
       "</div>"
      ],
      "text/plain": [
       "Price_Range  Lower_end  Average  Higher_end  All\n",
       "Usage_type                                      \n",
       "High                 0        0           2    2\n",
       "Low                 56       45           1  102\n",
       "Medium              24       15          37   76\n",
       "All                 80       60          40  180"
      ]
     },
     "execution_count": 26,
     "metadata": {},
     "output_type": "execute_result"
    }
   ],
   "source": [
    "# Price range vs Usage\n",
    "pd.crosstab(df['Usage_type'], df['Price_Range'], margins = True)"
   ]
  },
  {
   "cell_type": "code",
   "execution_count": 27,
   "metadata": {},
   "outputs": [
    {
     "name": "stdout",
     "output_type": "stream",
     "text": [
      "Probability of buying a lower end product : 44.44 %\n",
      "Probability of buying averagly priced product : 33.33 %\n",
      "Probability of buying higher end product : 22.22 %\n"
     ]
    }
   ],
   "source": [
    "# Probability of buying a product in variour price ranges\n",
    "total = 180\n",
    "Lower = 80\n",
    "Average = 60\n",
    "Higher = 40\n",
    "\n",
    "Prob_low = (Lower/total)*100\n",
    "Prob_mid = (Average/total)*100\n",
    "Prob_high = (Higher/total)*100\n",
    "\n",
    "print(f'Probability of buying a lower end product : {round(Prob_low,2)} %')\n",
    "print(f'Probability of buying averagly priced product : {round(Prob_mid,2)} %')\n",
    "print(f'Probability of buying higher end product : {round(Prob_high,2)} %')"
   ]
  },
  {
   "cell_type": "code",
   "execution_count": 28,
   "metadata": {},
   "outputs": [
    {
     "name": "stdout",
     "output_type": "stream",
     "text": [
      "Probability of having lower usage hours per week : 56.67 %\n",
      "Probability of having medium usage hours per week : 42.22 %\n",
      "Probability of having higher usage hours per week : 1.11 %\n"
     ]
    }
   ],
   "source": [
    "# Probability of different usage types\n",
    "total = 180\n",
    "Lower = 102\n",
    "Average = 76\n",
    "Higher = 2\n",
    "\n",
    "Prob_low = (Lower/total)*100\n",
    "Prob_mid = (Average/total)*100\n",
    "Prob_high = (Higher/total)*100\n",
    "\n",
    "print(f'Probability of having lower usage hours per week : {round(Prob_low,2)} %')\n",
    "print(f'Probability of having medium usage hours per week : {round(Prob_mid,2)} %')\n",
    "print(f'Probability of having higher usage hours per week : {round(Prob_high,2)} %')"
   ]
  },
  {
   "cell_type": "code",
   "execution_count": 29,
   "metadata": {},
   "outputs": [
    {
     "data": {
      "text/html": [
       "<div>\n",
       "<style scoped>\n",
       "    .dataframe tbody tr th:only-of-type {\n",
       "        vertical-align: middle;\n",
       "    }\n",
       "\n",
       "    .dataframe tbody tr th {\n",
       "        vertical-align: top;\n",
       "    }\n",
       "\n",
       "    .dataframe thead th {\n",
       "        text-align: right;\n",
       "    }\n",
       "</style>\n",
       "<table border=\"1\" class=\"dataframe\">\n",
       "  <thead>\n",
       "    <tr style=\"text-align: right;\">\n",
       "      <th>Income_Level</th>\n",
       "      <th>Low</th>\n",
       "      <th>Medium</th>\n",
       "      <th>High</th>\n",
       "      <th>All</th>\n",
       "    </tr>\n",
       "    <tr>\n",
       "      <th>MaritalStatus</th>\n",
       "      <th></th>\n",
       "      <th></th>\n",
       "      <th></th>\n",
       "      <th></th>\n",
       "    </tr>\n",
       "  </thead>\n",
       "  <tbody>\n",
       "    <tr>\n",
       "      <th>Partnered</th>\n",
       "      <td>43</td>\n",
       "      <td>51</td>\n",
       "      <td>13</td>\n",
       "      <td>107</td>\n",
       "    </tr>\n",
       "    <tr>\n",
       "      <th>Single</th>\n",
       "      <td>40</td>\n",
       "      <td>27</td>\n",
       "      <td>6</td>\n",
       "      <td>73</td>\n",
       "    </tr>\n",
       "    <tr>\n",
       "      <th>All</th>\n",
       "      <td>83</td>\n",
       "      <td>78</td>\n",
       "      <td>19</td>\n",
       "      <td>180</td>\n",
       "    </tr>\n",
       "  </tbody>\n",
       "</table>\n",
       "</div>"
      ],
      "text/plain": [
       "Income_Level   Low  Medium  High  All\n",
       "MaritalStatus                        \n",
       "Partnered       43      51    13  107\n",
       "Single          40      27     6   73\n",
       "All             83      78    19  180"
      ]
     },
     "execution_count": 29,
     "metadata": {},
     "output_type": "execute_result"
    }
   ],
   "source": [
    "# marital Status vs Income level\n",
    "pd.crosstab(df['MaritalStatus'], df['Income_Level'], margins = True)"
   ]
  },
  {
   "cell_type": "code",
   "execution_count": 30,
   "metadata": {},
   "outputs": [
    {
     "name": "stdout",
     "output_type": "stream",
     "text": [
      "Probability of customer with lower income level : 46.11 %\n",
      "Probability of customer with medium income level : 43.33 %\n",
      "Probability of customer with higher income level : 10.56 %\n"
     ]
    }
   ],
   "source": [
    "# Probability for different income types\n",
    "total = 180\n",
    "Lower = 83\n",
    "Average = 78\n",
    "Higher = 19\n",
    "\n",
    "Prob_low = (Lower/total)*100\n",
    "Prob_mid = (Average/total)*100\n",
    "Prob_high = (Higher/total)*100\n",
    "\n",
    "print(f'Probability of customer with lower income level : {round(Prob_low,2)} %')\n",
    "print(f'Probability of customer with medium income level : {round(Prob_mid,2)} %')\n",
    "print(f'Probability of customer with higher income level : {round(Prob_high,2)} %')"
   ]
  },
  {
   "cell_type": "markdown",
   "metadata": {},
   "source": [
    "The above probabilities indicate:\n",
    "- The probabilities on lower end of the spectrum for each of the numerical features is higher, followed by mid spectrum which is followed by higher end spectrum which has the lowest probability of occurence."
   ]
  },
  {
   "cell_type": "markdown",
   "metadata": {},
   "source": [
    "### Conditional Probability"
   ]
  },
  {
   "cell_type": "code",
   "execution_count": 31,
   "metadata": {},
   "outputs": [
    {
     "data": {
      "text/html": [
       "<div>\n",
       "<style scoped>\n",
       "    .dataframe tbody tr th:only-of-type {\n",
       "        vertical-align: middle;\n",
       "    }\n",
       "\n",
       "    .dataframe tbody tr th {\n",
       "        vertical-align: top;\n",
       "    }\n",
       "\n",
       "    .dataframe thead th {\n",
       "        text-align: right;\n",
       "    }\n",
       "</style>\n",
       "<table border=\"1\" class=\"dataframe\">\n",
       "  <thead>\n",
       "    <tr style=\"text-align: right;\">\n",
       "      <th>Income_Level</th>\n",
       "      <th>Low</th>\n",
       "      <th>Medium</th>\n",
       "      <th>High</th>\n",
       "      <th>All</th>\n",
       "    </tr>\n",
       "    <tr>\n",
       "      <th>Product</th>\n",
       "      <th></th>\n",
       "      <th></th>\n",
       "      <th></th>\n",
       "      <th></th>\n",
       "    </tr>\n",
       "  </thead>\n",
       "  <tbody>\n",
       "    <tr>\n",
       "      <th>KP281</th>\n",
       "      <td>48</td>\n",
       "      <td>32</td>\n",
       "      <td>0</td>\n",
       "      <td>80</td>\n",
       "    </tr>\n",
       "    <tr>\n",
       "      <th>KP481</th>\n",
       "      <td>30</td>\n",
       "      <td>30</td>\n",
       "      <td>0</td>\n",
       "      <td>60</td>\n",
       "    </tr>\n",
       "    <tr>\n",
       "      <th>KP781</th>\n",
       "      <td>5</td>\n",
       "      <td>16</td>\n",
       "      <td>19</td>\n",
       "      <td>40</td>\n",
       "    </tr>\n",
       "    <tr>\n",
       "      <th>All</th>\n",
       "      <td>83</td>\n",
       "      <td>78</td>\n",
       "      <td>19</td>\n",
       "      <td>180</td>\n",
       "    </tr>\n",
       "  </tbody>\n",
       "</table>\n",
       "</div>"
      ],
      "text/plain": [
       "Income_Level  Low  Medium  High  All\n",
       "Product                             \n",
       "KP281          48      32     0   80\n",
       "KP481          30      30     0   60\n",
       "KP781           5      16    19   40\n",
       "All            83      78    19  180"
      ]
     },
     "execution_count": 31,
     "metadata": {},
     "output_type": "execute_result"
    }
   ],
   "source": [
    "# Probability of buying a product given the Income level\n",
    "pd.crosstab(df['Product'], df['Income_Level'], margins = True)"
   ]
  },
  {
   "cell_type": "markdown",
   "metadata": {},
   "source": [
    "### Probability of buying various products given different income level of customers"
   ]
  },
  {
   "cell_type": "code",
   "execution_count": 32,
   "metadata": {},
   "outputs": [
    {
     "name": "stdout",
     "output_type": "stream",
     "text": [
      "Probability of buying KP281 product given that customer has a low income is 57.83 %\n"
     ]
    }
   ],
   "source": [
    "# Probability of buying KP281 product given low income level\n",
    "\n",
    "# Probability of having low income --> P(B)\n",
    "Prob_event_B = 83/180\n",
    "\n",
    "# Probability of having low income and buying KP281 product --> (A^B)\n",
    "Prob_A_intersection_B = 48/180\n",
    "\n",
    "Conditional_Prob = (Prob_A_intersection_B/Prob_event_B)* 100\n",
    "print(f'Probability of buying KP281 product given that customer has a low income is {round(Conditional_Prob,2)} %')"
   ]
  },
  {
   "cell_type": "code",
   "execution_count": 33,
   "metadata": {},
   "outputs": [
    {
     "name": "stdout",
     "output_type": "stream",
     "text": [
      "Probability of buying KP281 product given that customer has a high income is 0.0 %\n"
     ]
    }
   ],
   "source": [
    "# Probability of buying KP281 product given higher income level\n",
    "\n",
    "# Probability of having high income --> P(B)\n",
    "Prob_event_B = 19/180\n",
    "\n",
    "# Probability of having low income and buying KP281 product --> (A^B)\n",
    "Prob_A_intersection_B = 0/180\n",
    "\n",
    "Conditional_Prob = (Prob_A_intersection_B/Prob_event_B)* 100\n",
    "print(f'Probability of buying KP281 product given that customer has a high income is {round(Conditional_Prob,2)} %')"
   ]
  },
  {
   "cell_type": "code",
   "execution_count": 34,
   "metadata": {},
   "outputs": [
    {
     "name": "stdout",
     "output_type": "stream",
     "text": [
      "Probability of buying KP781 product given that customer has a low income is 6.02 %\n"
     ]
    }
   ],
   "source": [
    "# Probability of buying KP781 product given low income level\n",
    "\n",
    "# Probability of having low income --> P(B)\n",
    "Prob_event_B = 83/180\n",
    "\n",
    "# Probability of having low income and buying KP781 product --> (A^B)\n",
    "Prob_A_intersection_B = 5/180\n",
    "\n",
    "Conditional_Prob = (Prob_A_intersection_B/Prob_event_B)* 100\n",
    "print(f'Probability of buying KP781 product given that customer has a low income is {round(Conditional_Prob,2)} %')"
   ]
  },
  {
   "cell_type": "code",
   "execution_count": 35,
   "metadata": {},
   "outputs": [
    {
     "name": "stdout",
     "output_type": "stream",
     "text": [
      "Probability of buying KP781 product given that customer has a high income is 100.0 %\n"
     ]
    }
   ],
   "source": [
    "# Probability of buying KP781 product given high income level\n",
    "\n",
    "# Probability of having high income --> P(B)\n",
    "Prob_event_B = 19/180\n",
    "\n",
    "# Probability of having high income and buying KP781 product --> (A^B)\n",
    "Prob_A_intersection_B = 19/180\n",
    "\n",
    "Conditional_Prob = (Prob_A_intersection_B/Prob_event_B)* 100\n",
    "print(f'Probability of buying KP781 product given that customer has a high income is {round(Conditional_Prob,2)} %')"
   ]
  },
  {
   "cell_type": "markdown",
   "metadata": {},
   "source": [
    "The above probabilities suggest that:\n",
    "- The customer with lower income have 57.83% chance of buying the KP281 product which is a low cost product with price of 1500 while, they have 6 % probability of buying the model KP781 which is highe end model with cost of 2500.\n",
    "- On the other hand customers with higher income have 100% probability of buying higher end product while they have 0% chance of buying lowe end product"
   ]
  },
  {
   "cell_type": "markdown",
   "metadata": {},
   "source": [
    "### Probability of buying the products given different Fitness level of customers"
   ]
  },
  {
   "cell_type": "code",
   "execution_count": 36,
   "metadata": {},
   "outputs": [
    {
     "data": {
      "text/html": [
       "<div>\n",
       "<style scoped>\n",
       "    .dataframe tbody tr th:only-of-type {\n",
       "        vertical-align: middle;\n",
       "    }\n",
       "\n",
       "    .dataframe tbody tr th {\n",
       "        vertical-align: top;\n",
       "    }\n",
       "\n",
       "    .dataframe thead th {\n",
       "        text-align: right;\n",
       "    }\n",
       "</style>\n",
       "<table border=\"1\" class=\"dataframe\">\n",
       "  <thead>\n",
       "    <tr style=\"text-align: right;\">\n",
       "      <th>Fitness_level</th>\n",
       "      <th>High</th>\n",
       "      <th>Low</th>\n",
       "      <th>Medium</th>\n",
       "      <th>All</th>\n",
       "    </tr>\n",
       "    <tr>\n",
       "      <th>Product</th>\n",
       "      <th></th>\n",
       "      <th></th>\n",
       "      <th></th>\n",
       "      <th></th>\n",
       "    </tr>\n",
       "  </thead>\n",
       "  <tbody>\n",
       "    <tr>\n",
       "      <th>KP281</th>\n",
       "      <td>11</td>\n",
       "      <td>15</td>\n",
       "      <td>54</td>\n",
       "      <td>80</td>\n",
       "    </tr>\n",
       "    <tr>\n",
       "      <th>KP481</th>\n",
       "      <td>8</td>\n",
       "      <td>13</td>\n",
       "      <td>39</td>\n",
       "      <td>60</td>\n",
       "    </tr>\n",
       "    <tr>\n",
       "      <th>KP781</th>\n",
       "      <td>36</td>\n",
       "      <td>0</td>\n",
       "      <td>4</td>\n",
       "      <td>40</td>\n",
       "    </tr>\n",
       "    <tr>\n",
       "      <th>All</th>\n",
       "      <td>55</td>\n",
       "      <td>28</td>\n",
       "      <td>97</td>\n",
       "      <td>180</td>\n",
       "    </tr>\n",
       "  </tbody>\n",
       "</table>\n",
       "</div>"
      ],
      "text/plain": [
       "Fitness_level  High  Low  Medium  All\n",
       "Product                              \n",
       "KP281            11   15      54   80\n",
       "KP481             8   13      39   60\n",
       "KP781            36    0       4   40\n",
       "All              55   28      97  180"
      ]
     },
     "execution_count": 36,
     "metadata": {},
     "output_type": "execute_result"
    }
   ],
   "source": [
    "# Probability of buying a product given the Fitness level\n",
    "pd.crosstab(df['Product'], df['Fitness_level'], margins = True)"
   ]
  },
  {
   "cell_type": "code",
   "execution_count": 37,
   "metadata": {},
   "outputs": [
    {
     "name": "stdout",
     "output_type": "stream",
     "text": [
      "Probability of buying KP781 product given that customer has a low fitness is 0.0 %\n"
     ]
    }
   ],
   "source": [
    "# Probability of buying KP781 product given low fitness level\n",
    "\n",
    "# Probability of having low fitness --> P(B)\n",
    "Prob_event_B = 28/180\n",
    "\n",
    "# Probability of having low fitness and buying KP781 product --> (A^B)\n",
    "Prob_A_intersection_B = 0/180\n",
    "\n",
    "Conditional_Prob = (Prob_A_intersection_B/Prob_event_B)* 100\n",
    "print(f'Probability of buying KP781 product given that customer has a low fitness is {round(Conditional_Prob,2)} %')"
   ]
  },
  {
   "cell_type": "code",
   "execution_count": 38,
   "metadata": {},
   "outputs": [
    {
     "name": "stdout",
     "output_type": "stream",
     "text": [
      "Probability of buying KP781 product given that customer has a high fitness is 65.45 %\n"
     ]
    }
   ],
   "source": [
    "# Probability of buying KP781 product given high fitness level\n",
    "\n",
    "# Probability of having high fitness --> P(B)\n",
    "Prob_event_B = 55/180\n",
    "\n",
    "# Probability of having high fitness and buying KP781 product --> (A^B)\n",
    "Prob_A_intersection_B = 36/180\n",
    "\n",
    "Conditional_Prob = (Prob_A_intersection_B/Prob_event_B)* 100\n",
    "print(f'Probability of buying KP781 product given that customer has a high fitness is {round(Conditional_Prob,2)} %')"
   ]
  },
  {
   "cell_type": "code",
   "execution_count": 39,
   "metadata": {},
   "outputs": [
    {
     "name": "stdout",
     "output_type": "stream",
     "text": [
      "Probability of buying KP281 product given that customer has a low fitness is 53.57 %\n"
     ]
    }
   ],
   "source": [
    "# Probability of buying KP281 product given low fitness level\n",
    "\n",
    "# Probability of having low fitness --> P(B)\n",
    "Prob_event_B = 28/180\n",
    "\n",
    "# Probability of having low fitness and buying KP281 product --> (A^B)\n",
    "Prob_A_intersection_B = 15/180\n",
    "\n",
    "Conditional_Prob = (Prob_A_intersection_B/Prob_event_B)* 100\n",
    "print(f'Probability of buying KP281 product given that customer has a low fitness is {round(Conditional_Prob,2)} %')"
   ]
  },
  {
   "cell_type": "code",
   "execution_count": 40,
   "metadata": {},
   "outputs": [
    {
     "name": "stdout",
     "output_type": "stream",
     "text": [
      "Probability of buying KP281 product given that customer has a high fitness is 20.0 %\n"
     ]
    }
   ],
   "source": [
    "# Probability of buying KP281 product given high fitness level\n",
    "\n",
    "# Probability of having high fitness --> P(B)\n",
    "Prob_event_B = 55/180\n",
    "\n",
    "# Probability of having high fitness and buying KP281 product --> (A^B)\n",
    "Prob_A_intersection_B = 11/180\n",
    "\n",
    "Conditional_Prob = (Prob_A_intersection_B/Prob_event_B)* 100\n",
    "print(f'Probability of buying KP281 product given that customer has a high fitness is {round(Conditional_Prob,2)} %')"
   ]
  },
  {
   "cell_type": "code",
   "execution_count": 41,
   "metadata": {},
   "outputs": [
    {
     "name": "stdout",
     "output_type": "stream",
     "text": [
      "Probability of buying KP481 product given that customer has a high fitness is 14.55 %\n"
     ]
    }
   ],
   "source": [
    "# Probability of buying KP481 product given high fitness level\n",
    "\n",
    "# Probability of having high fitness --> P(B)\n",
    "Prob_event_B = 55/180\n",
    "\n",
    "# Probability of having high fitness and buying KP481 product --> (A^B)\n",
    "Prob_A_intersection_B = 8/180\n",
    "\n",
    "Conditional_Prob = (Prob_A_intersection_B/Prob_event_B)* 100\n",
    "print(f'Probability of buying KP481 product given that customer has a high fitness is {round(Conditional_Prob,2)} %')"
   ]
  },
  {
   "cell_type": "code",
   "execution_count": 42,
   "metadata": {},
   "outputs": [
    {
     "name": "stdout",
     "output_type": "stream",
     "text": [
      "Probability of buying KP481 product given that customer has a low fitness is 46.43 %\n"
     ]
    }
   ],
   "source": [
    "# Probability of buying KP481 product given low fitness level\n",
    "\n",
    "# Probability of having low fitness --> P(B)\n",
    "Prob_event_B = 28/180\n",
    "\n",
    "# Probability of having low fitness and buying KP481 product --> (A^B)\n",
    "Prob_A_intersection_B = 13/180\n",
    "\n",
    "Conditional_Prob = (Prob_A_intersection_B/Prob_event_B)* 100\n",
    "print(f'Probability of buying KP481 product given that customer has a low fitness is {round(Conditional_Prob,2)} %')"
   ]
  },
  {
   "cell_type": "markdown",
   "metadata": {},
   "source": [
    "The above probabilities suggest:\n",
    "- The customers with lower fitness level don't have 0 % probability of buying higher end products (KP781), however their probability of buying the lower end and mid level products is 57 % and 46 % respectively.\n",
    "- On the other hand customers with higher fitness level have 65% probability of buying higher end products and probability of them buying a lower end or mid range product is less that 20%"
   ]
  },
  {
   "cell_type": "markdown",
   "metadata": {},
   "source": [
    "### Probabilty of customer buying products given their age range "
   ]
  },
  {
   "cell_type": "code",
   "execution_count": 43,
   "metadata": {},
   "outputs": [
    {
     "data": {
      "text/html": [
       "<div>\n",
       "<style scoped>\n",
       "    .dataframe tbody tr th:only-of-type {\n",
       "        vertical-align: middle;\n",
       "    }\n",
       "\n",
       "    .dataframe tbody tr th {\n",
       "        vertical-align: top;\n",
       "    }\n",
       "\n",
       "    .dataframe thead th {\n",
       "        text-align: right;\n",
       "    }\n",
       "</style>\n",
       "<table border=\"1\" class=\"dataframe\">\n",
       "  <thead>\n",
       "    <tr style=\"text-align: right;\">\n",
       "      <th>Age_type</th>\n",
       "      <th>Young</th>\n",
       "      <th>Middle_Aged</th>\n",
       "      <th>Old</th>\n",
       "      <th>All</th>\n",
       "    </tr>\n",
       "    <tr>\n",
       "      <th>Product</th>\n",
       "      <th></th>\n",
       "      <th></th>\n",
       "      <th></th>\n",
       "      <th></th>\n",
       "    </tr>\n",
       "  </thead>\n",
       "  <tbody>\n",
       "    <tr>\n",
       "      <th>KP281</th>\n",
       "      <td>55</td>\n",
       "      <td>19</td>\n",
       "      <td>6</td>\n",
       "      <td>80</td>\n",
       "    </tr>\n",
       "    <tr>\n",
       "      <th>KP481</th>\n",
       "      <td>35</td>\n",
       "      <td>23</td>\n",
       "      <td>2</td>\n",
       "      <td>60</td>\n",
       "    </tr>\n",
       "    <tr>\n",
       "      <th>KP781</th>\n",
       "      <td>30</td>\n",
       "      <td>6</td>\n",
       "      <td>4</td>\n",
       "      <td>40</td>\n",
       "    </tr>\n",
       "    <tr>\n",
       "      <th>All</th>\n",
       "      <td>120</td>\n",
       "      <td>48</td>\n",
       "      <td>12</td>\n",
       "      <td>180</td>\n",
       "    </tr>\n",
       "  </tbody>\n",
       "</table>\n",
       "</div>"
      ],
      "text/plain": [
       "Age_type  Young  Middle_Aged  Old  All\n",
       "Product                               \n",
       "KP281        55           19    6   80\n",
       "KP481        35           23    2   60\n",
       "KP781        30            6    4   40\n",
       "All         120           48   12  180"
      ]
     },
     "execution_count": 43,
     "metadata": {},
     "output_type": "execute_result"
    }
   ],
   "source": [
    "# Probability of buying a product given the Age range\n",
    "pd.crosstab(df['Product'], df['Age_type'], margins = True)"
   ]
  },
  {
   "cell_type": "code",
   "execution_count": 44,
   "metadata": {},
   "outputs": [
    {
     "name": "stdout",
     "output_type": "stream",
     "text": [
      "Probability of buying KP281 product given they are young is 45.83 %\n"
     ]
    }
   ],
   "source": [
    "# Probability of buying KP281 product given they are young\n",
    "\n",
    "# Probability of customers being young--> P(B)\n",
    "Prob_event_B = 120/180\n",
    "\n",
    "# Probability of being yound and buying KP281 product --> (A^B)\n",
    "Prob_A_intersection_B = 55/180\n",
    "\n",
    "Conditional_prob = (Prob_A_intersection_B/Prob_event_B)* 100\n",
    "print(f'Probability of buying KP281 product given they are young is {round(Conditional_prob,2)} %')"
   ]
  },
  {
   "cell_type": "code",
   "execution_count": 45,
   "metadata": {},
   "outputs": [
    {
     "name": "stdout",
     "output_type": "stream",
     "text": [
      "Probability of buying KP281 product given they are middle aged is 39.58 %\n"
     ]
    }
   ],
   "source": [
    "# Probability of buying KP281 product given they are middle aged\n",
    "\n",
    "# Probability of customers being middle aged--> P(B)\n",
    "Prob_event_B = 48/180\n",
    "\n",
    "# Probability of being middle aged and buying KP281 product --> (A^B)\n",
    "Prob_A_intersection_B = 19/180\n",
    "\n",
    "Conditional_prob = (Prob_A_intersection_B/Prob_event_B)* 100\n",
    "print(f'Probability of buying KP281 product given they are middle aged is {round(Conditional_prob,2)} %')"
   ]
  },
  {
   "cell_type": "code",
   "execution_count": 46,
   "metadata": {},
   "outputs": [
    {
     "name": "stdout",
     "output_type": "stream",
     "text": [
      "Probability of buying KP281 product given they are old is 50.0 %\n"
     ]
    }
   ],
   "source": [
    "# Probability of buying KP281 product given they are old\n",
    "# Probability of customers being old--> P(B)\n",
    "Prob_event_B = 12/180\n",
    "\n",
    "# Probability of being old and buying KP281 product --> (A^B)\n",
    "Prob_A_intersection_B = 6/180\n",
    "\n",
    "Conditional_prob = (Prob_A_intersection_B/Prob_event_B)* 100\n",
    "print(f'Probability of buying KP281 product given they are old is {round(Conditional_prob,2)} %')"
   ]
  },
  {
   "cell_type": "code",
   "execution_count": 47,
   "metadata": {},
   "outputs": [
    {
     "name": "stdout",
     "output_type": "stream",
     "text": [
      "Probability of buying KP781 product given they are young is 25.0 %\n"
     ]
    }
   ],
   "source": [
    "# Probability of buying KP781 product given they are young\n",
    "\n",
    "# Probability of customers being young--> P(B)\n",
    "Prob_event_B = 120/180\n",
    "\n",
    "# Probability of being yound and buying KP781 product --> (A^B)\n",
    "Prob_A_intersection_B = 30/180\n",
    "\n",
    "Conditional_prob = (Prob_A_intersection_B/Prob_event_B)* 100\n",
    "print(f'Probability of buying KP781 product given they are young is {round(Conditional_prob,2)} %')"
   ]
  },
  {
   "cell_type": "code",
   "execution_count": 48,
   "metadata": {
    "scrolled": true
   },
   "outputs": [
    {
     "name": "stdout",
     "output_type": "stream",
     "text": [
      "Probability of buying KP781 product given they are middle aged is 12.5 %\n"
     ]
    }
   ],
   "source": [
    "# Probability of buying KP781 product given they are middle aged\n",
    "\n",
    "# Probability of customers being middle aged--> P(B)\n",
    "Prob_event_B = 48/180\n",
    "\n",
    "# Probability of being middle aged and buying KP781 product --> (A^B)\n",
    "Prob_A_intersection_B = 6/180\n",
    "\n",
    "Conditional_prob = (Prob_A_intersection_B/Prob_event_B)* 100\n",
    "print(f'Probability of buying KP781 product given they are middle aged is {round(Conditional_prob,2)} %')"
   ]
  },
  {
   "cell_type": "code",
   "execution_count": 49,
   "metadata": {},
   "outputs": [
    {
     "name": "stdout",
     "output_type": "stream",
     "text": [
      "Probability of buying KP781 product given they are old is 33.33 %\n"
     ]
    }
   ],
   "source": [
    "# Probability of buying KP781 product given they are old\n",
    "# Probability of customers being old--> P(B)\n",
    "Prob_event_B = 12/180\n",
    "\n",
    "# Probability of being old and buying K7P81 product --> (A^B)\n",
    "Prob_A_intersection_B = 4/180\n",
    "\n",
    "Conditional_prob = (Prob_A_intersection_B/Prob_event_B)* 100\n",
    "print(f'Probability of buying KP781 product given they are old is {round(Conditional_prob,2)} %')"
   ]
  },
  {
   "cell_type": "markdown",
   "metadata": {},
   "source": [
    "The above probabilities suggest:\n",
    "- The probability of customer buying the KP281 model is higher for every age group with probabilities ranging from 40% to 50%.\n",
    "- While probability of customer buying the KP781 model is higher for young (25%) and old customers (33.33%) but less for middle aged customers (12.5%)."
   ]
  },
  {
   "cell_type": "markdown",
   "metadata": {},
   "source": [
    "### Probability of customers buying products given their gender"
   ]
  },
  {
   "cell_type": "code",
   "execution_count": 50,
   "metadata": {},
   "outputs": [
    {
     "data": {
      "text/html": [
       "<div>\n",
       "<style scoped>\n",
       "    .dataframe tbody tr th:only-of-type {\n",
       "        vertical-align: middle;\n",
       "    }\n",
       "\n",
       "    .dataframe tbody tr th {\n",
       "        vertical-align: top;\n",
       "    }\n",
       "\n",
       "    .dataframe thead th {\n",
       "        text-align: right;\n",
       "    }\n",
       "</style>\n",
       "<table border=\"1\" class=\"dataframe\">\n",
       "  <thead>\n",
       "    <tr style=\"text-align: right;\">\n",
       "      <th>Gender</th>\n",
       "      <th>Female</th>\n",
       "      <th>Male</th>\n",
       "      <th>All</th>\n",
       "    </tr>\n",
       "    <tr>\n",
       "      <th>Product</th>\n",
       "      <th></th>\n",
       "      <th></th>\n",
       "      <th></th>\n",
       "    </tr>\n",
       "  </thead>\n",
       "  <tbody>\n",
       "    <tr>\n",
       "      <th>KP281</th>\n",
       "      <td>40</td>\n",
       "      <td>40</td>\n",
       "      <td>80</td>\n",
       "    </tr>\n",
       "    <tr>\n",
       "      <th>KP481</th>\n",
       "      <td>29</td>\n",
       "      <td>31</td>\n",
       "      <td>60</td>\n",
       "    </tr>\n",
       "    <tr>\n",
       "      <th>KP781</th>\n",
       "      <td>7</td>\n",
       "      <td>33</td>\n",
       "      <td>40</td>\n",
       "    </tr>\n",
       "    <tr>\n",
       "      <th>All</th>\n",
       "      <td>76</td>\n",
       "      <td>104</td>\n",
       "      <td>180</td>\n",
       "    </tr>\n",
       "  </tbody>\n",
       "</table>\n",
       "</div>"
      ],
      "text/plain": [
       "Gender   Female  Male  All\n",
       "Product                   \n",
       "KP281        40    40   80\n",
       "KP481        29    31   60\n",
       "KP781         7    33   40\n",
       "All          76   104  180"
      ]
     },
     "execution_count": 50,
     "metadata": {},
     "output_type": "execute_result"
    }
   ],
   "source": [
    "# Probability of buying a product given their Gender\n",
    "pd.crosstab(df['Product'], df['Gender'], margins = True)"
   ]
  },
  {
   "cell_type": "code",
   "execution_count": 51,
   "metadata": {},
   "outputs": [
    {
     "name": "stdout",
     "output_type": "stream",
     "text": [
      "Probability of buying KP781 product given they are male is 38.46 %\n"
     ]
    }
   ],
   "source": [
    "# Probability of buying KP281 product given the customers are male\n",
    "# Probability of the customer being male--> P(B)\n",
    "Prob_event_B = 104/180\n",
    "\n",
    "# Probability of being male and buying KP281 product --> (A^B)\n",
    "Prob_A_intersection_B = 40/180\n",
    "\n",
    "Conditional_prob = (Prob_A_intersection_B/Prob_event_B)* 100\n",
    "print(f'Probability of buying KP781 product given they are male is {round(Conditional_prob,2)} %')"
   ]
  },
  {
   "cell_type": "code",
   "execution_count": 52,
   "metadata": {},
   "outputs": [
    {
     "name": "stdout",
     "output_type": "stream",
     "text": [
      "Probability of buying KP781 product given they are female is 52.63 %\n"
     ]
    }
   ],
   "source": [
    "# Probability of buying KP281 product given the customers are female\n",
    "# Probability of the customer being female --> P(B)\n",
    "Prob_event_B = 76/180\n",
    "\n",
    "# Probability of being female and buying KP281 product --> (A^B)\n",
    "Prob_A_intersection_B = 40/180\n",
    "\n",
    "Conditional_prob = (Prob_A_intersection_B/Prob_event_B)* 100\n",
    "print(f'Probability of buying KP781 product given they are female is {round(Conditional_prob,2)} %')"
   ]
  },
  {
   "cell_type": "code",
   "execution_count": 53,
   "metadata": {},
   "outputs": [
    {
     "name": "stdout",
     "output_type": "stream",
     "text": [
      "Probability of buying KP481 product given they are male is 29.81 %\n"
     ]
    }
   ],
   "source": [
    "# Probability of buying KP481 product given the customers are male\n",
    "# Probability of the customer being male--> P(B)\n",
    "Prob_event_B = 104/180\n",
    "\n",
    "# Probability of being male and buying KP481 product --> (A^B)\n",
    "Prob_A_intersection_B = 31/180\n",
    "\n",
    "Conditional_prob = (Prob_A_intersection_B/Prob_event_B)* 100\n",
    "print(f'Probability of buying KP481 product given they are male is {round(Conditional_prob,2)} %')"
   ]
  },
  {
   "cell_type": "code",
   "execution_count": 54,
   "metadata": {},
   "outputs": [
    {
     "name": "stdout",
     "output_type": "stream",
     "text": [
      "Probability of buying KP481 product given they are female is 38.16 %\n"
     ]
    }
   ],
   "source": [
    "# Probability of buying KP481 product given the customers are female\n",
    "# Probability of the customer being female--> P(B)\n",
    "Prob_event_B = 76/180\n",
    "\n",
    "# Probability of being female and buying KP481 product --> (A^B)\n",
    "Prob_A_intersection_B = 29/180\n",
    "\n",
    "Conditional_prob = (Prob_A_intersection_B/Prob_event_B)* 100\n",
    "print(f'Probability of buying KP481 product given they are female is {round(Conditional_prob,2)} %')"
   ]
  },
  {
   "cell_type": "code",
   "execution_count": 55,
   "metadata": {},
   "outputs": [
    {
     "name": "stdout",
     "output_type": "stream",
     "text": [
      "Probability of buying KP781 product given they are male is 31.73 %\n"
     ]
    }
   ],
   "source": [
    "# Probability of buying KP781 product given the customers are male\n",
    "# Probability of the customer being male--> P(B)\n",
    "Prob_event_B = 104/180\n",
    "\n",
    "# Probability of being male and buying KP781 product --> (A^B)\n",
    "Prob_A_intersection_B = 33/180\n",
    "\n",
    "Conditional_prob = (Prob_A_intersection_B/Prob_event_B)* 100\n",
    "print(f'Probability of buying KP781 product given they are male is {round(Conditional_prob,2)} %')"
   ]
  },
  {
   "cell_type": "code",
   "execution_count": 56,
   "metadata": {},
   "outputs": [
    {
     "name": "stdout",
     "output_type": "stream",
     "text": [
      "Probability of buying KP781 product given they are female is 9.21 %\n"
     ]
    }
   ],
   "source": [
    "# Probability of buying KP781 product given the customers are female\n",
    "# Probability of the customer being female--> P(B)\n",
    "Prob_event_B = 76/180\n",
    "\n",
    "# Probability of being female and buying KP781 product --> (A^B)\n",
    "Prob_A_intersection_B = 7/180\n",
    "\n",
    "Conditional_prob = (Prob_A_intersection_B/Prob_event_B)* 100\n",
    "print(f'Probability of buying KP781 product given they are female is {round(Conditional_prob,2)} %')"
   ]
  },
  {
   "cell_type": "markdown",
   "metadata": {},
   "source": [
    "The above probabilities suggest:\n",
    "- Male customers have somewhat equivallent probabilities in the range of 30-40% while buying products in different price range.\n",
    "- Female customers have higher probabilty of buying lower end products (KP281 and KP481) with probability in the range of 35 - 55 %. "
   ]
  },
  {
   "cell_type": "markdown",
   "metadata": {},
   "source": [
    "### Efficient way to look at probabilities "
   ]
  },
  {
   "cell_type": "code",
   "execution_count": 60,
   "metadata": {},
   "outputs": [],
   "source": [
    "# Creating bins for miles -\n",
    "\n",
    "bins = [-1,50,100,150,400]\n",
    "labels = ['<50','50-100','100-150','150+']\n",
    "df['Mile_bins'] = pd.cut(df['Miles'], bins=bins, labels=labels)"
   ]
  },
  {
   "cell_type": "code",
   "execution_count": 62,
   "metadata": {},
   "outputs": [],
   "source": [
    "cat_cols=['Gender','Education', 'MaritalStatus', 'Usage','Fitness','Age_type','Income_Level','Mile_bins']"
   ]
  },
  {
   "cell_type": "code",
   "execution_count": 63,
   "metadata": {
    "scrolled": false
   },
   "outputs": [
    {
     "name": "stdout",
     "output_type": "stream",
     "text": [
      "Table for Gender vs Treadmill Product\n"
     ]
    },
    {
     "data": {
      "text/html": [
       "<div>\n",
       "<style scoped>\n",
       "    .dataframe tbody tr th:only-of-type {\n",
       "        vertical-align: middle;\n",
       "    }\n",
       "\n",
       "    .dataframe tbody tr th {\n",
       "        vertical-align: top;\n",
       "    }\n",
       "\n",
       "    .dataframe thead th {\n",
       "        text-align: right;\n",
       "    }\n",
       "</style>\n",
       "<table border=\"1\" class=\"dataframe\">\n",
       "  <thead>\n",
       "    <tr style=\"text-align: right;\">\n",
       "      <th>Product</th>\n",
       "      <th>KP281</th>\n",
       "      <th>KP481</th>\n",
       "      <th>KP781</th>\n",
       "    </tr>\n",
       "    <tr>\n",
       "      <th>Gender</th>\n",
       "      <th></th>\n",
       "      <th></th>\n",
       "      <th></th>\n",
       "    </tr>\n",
       "  </thead>\n",
       "  <tbody>\n",
       "    <tr>\n",
       "      <th>Female</th>\n",
       "      <td>0.526316</td>\n",
       "      <td>0.381579</td>\n",
       "      <td>0.092105</td>\n",
       "    </tr>\n",
       "    <tr>\n",
       "      <th>Male</th>\n",
       "      <td>0.384615</td>\n",
       "      <td>0.298077</td>\n",
       "      <td>0.317308</td>\n",
       "    </tr>\n",
       "    <tr>\n",
       "      <th>All</th>\n",
       "      <td>0.444444</td>\n",
       "      <td>0.333333</td>\n",
       "      <td>0.222222</td>\n",
       "    </tr>\n",
       "  </tbody>\n",
       "</table>\n",
       "</div>"
      ],
      "text/plain": [
       "Product     KP281     KP481     KP781\n",
       "Gender                               \n",
       "Female   0.526316  0.381579  0.092105\n",
       "Male     0.384615  0.298077  0.317308\n",
       "All      0.444444  0.333333  0.222222"
      ]
     },
     "metadata": {},
     "output_type": "display_data"
    },
    {
     "name": "stdout",
     "output_type": "stream",
     "text": [
      "\n",
      "\n",
      "Table for Education vs Treadmill Product\n"
     ]
    },
    {
     "data": {
      "text/html": [
       "<div>\n",
       "<style scoped>\n",
       "    .dataframe tbody tr th:only-of-type {\n",
       "        vertical-align: middle;\n",
       "    }\n",
       "\n",
       "    .dataframe tbody tr th {\n",
       "        vertical-align: top;\n",
       "    }\n",
       "\n",
       "    .dataframe thead th {\n",
       "        text-align: right;\n",
       "    }\n",
       "</style>\n",
       "<table border=\"1\" class=\"dataframe\">\n",
       "  <thead>\n",
       "    <tr style=\"text-align: right;\">\n",
       "      <th>Product</th>\n",
       "      <th>KP281</th>\n",
       "      <th>KP481</th>\n",
       "      <th>KP781</th>\n",
       "    </tr>\n",
       "    <tr>\n",
       "      <th>Education</th>\n",
       "      <th></th>\n",
       "      <th></th>\n",
       "      <th></th>\n",
       "    </tr>\n",
       "  </thead>\n",
       "  <tbody>\n",
       "    <tr>\n",
       "      <th>12</th>\n",
       "      <td>0.666667</td>\n",
       "      <td>0.333333</td>\n",
       "      <td>0.000000</td>\n",
       "    </tr>\n",
       "    <tr>\n",
       "      <th>13</th>\n",
       "      <td>0.600000</td>\n",
       "      <td>0.400000</td>\n",
       "      <td>0.000000</td>\n",
       "    </tr>\n",
       "    <tr>\n",
       "      <th>14</th>\n",
       "      <td>0.545455</td>\n",
       "      <td>0.418182</td>\n",
       "      <td>0.036364</td>\n",
       "    </tr>\n",
       "    <tr>\n",
       "      <th>15</th>\n",
       "      <td>0.800000</td>\n",
       "      <td>0.200000</td>\n",
       "      <td>0.000000</td>\n",
       "    </tr>\n",
       "    <tr>\n",
       "      <th>16</th>\n",
       "      <td>0.458824</td>\n",
       "      <td>0.364706</td>\n",
       "      <td>0.176471</td>\n",
       "    </tr>\n",
       "    <tr>\n",
       "      <th>18</th>\n",
       "      <td>0.086957</td>\n",
       "      <td>0.086957</td>\n",
       "      <td>0.826087</td>\n",
       "    </tr>\n",
       "    <tr>\n",
       "      <th>20</th>\n",
       "      <td>0.000000</td>\n",
       "      <td>0.000000</td>\n",
       "      <td>1.000000</td>\n",
       "    </tr>\n",
       "    <tr>\n",
       "      <th>21</th>\n",
       "      <td>0.000000</td>\n",
       "      <td>0.000000</td>\n",
       "      <td>1.000000</td>\n",
       "    </tr>\n",
       "    <tr>\n",
       "      <th>All</th>\n",
       "      <td>0.444444</td>\n",
       "      <td>0.333333</td>\n",
       "      <td>0.222222</td>\n",
       "    </tr>\n",
       "  </tbody>\n",
       "</table>\n",
       "</div>"
      ],
      "text/plain": [
       "Product       KP281     KP481     KP781\n",
       "Education                              \n",
       "12         0.666667  0.333333  0.000000\n",
       "13         0.600000  0.400000  0.000000\n",
       "14         0.545455  0.418182  0.036364\n",
       "15         0.800000  0.200000  0.000000\n",
       "16         0.458824  0.364706  0.176471\n",
       "18         0.086957  0.086957  0.826087\n",
       "20         0.000000  0.000000  1.000000\n",
       "21         0.000000  0.000000  1.000000\n",
       "All        0.444444  0.333333  0.222222"
      ]
     },
     "metadata": {},
     "output_type": "display_data"
    },
    {
     "name": "stdout",
     "output_type": "stream",
     "text": [
      "\n",
      "\n",
      "Table for MaritalStatus vs Treadmill Product\n"
     ]
    },
    {
     "data": {
      "text/html": [
       "<div>\n",
       "<style scoped>\n",
       "    .dataframe tbody tr th:only-of-type {\n",
       "        vertical-align: middle;\n",
       "    }\n",
       "\n",
       "    .dataframe tbody tr th {\n",
       "        vertical-align: top;\n",
       "    }\n",
       "\n",
       "    .dataframe thead th {\n",
       "        text-align: right;\n",
       "    }\n",
       "</style>\n",
       "<table border=\"1\" class=\"dataframe\">\n",
       "  <thead>\n",
       "    <tr style=\"text-align: right;\">\n",
       "      <th>Product</th>\n",
       "      <th>KP281</th>\n",
       "      <th>KP481</th>\n",
       "      <th>KP781</th>\n",
       "    </tr>\n",
       "    <tr>\n",
       "      <th>MaritalStatus</th>\n",
       "      <th></th>\n",
       "      <th></th>\n",
       "      <th></th>\n",
       "    </tr>\n",
       "  </thead>\n",
       "  <tbody>\n",
       "    <tr>\n",
       "      <th>Partnered</th>\n",
       "      <td>0.448598</td>\n",
       "      <td>0.336449</td>\n",
       "      <td>0.214953</td>\n",
       "    </tr>\n",
       "    <tr>\n",
       "      <th>Single</th>\n",
       "      <td>0.438356</td>\n",
       "      <td>0.328767</td>\n",
       "      <td>0.232877</td>\n",
       "    </tr>\n",
       "    <tr>\n",
       "      <th>All</th>\n",
       "      <td>0.444444</td>\n",
       "      <td>0.333333</td>\n",
       "      <td>0.222222</td>\n",
       "    </tr>\n",
       "  </tbody>\n",
       "</table>\n",
       "</div>"
      ],
      "text/plain": [
       "Product           KP281     KP481     KP781\n",
       "MaritalStatus                              \n",
       "Partnered      0.448598  0.336449  0.214953\n",
       "Single         0.438356  0.328767  0.232877\n",
       "All            0.444444  0.333333  0.222222"
      ]
     },
     "metadata": {},
     "output_type": "display_data"
    },
    {
     "name": "stdout",
     "output_type": "stream",
     "text": [
      "\n",
      "\n",
      "Table for Usage vs Treadmill Product\n"
     ]
    },
    {
     "data": {
      "text/html": [
       "<div>\n",
       "<style scoped>\n",
       "    .dataframe tbody tr th:only-of-type {\n",
       "        vertical-align: middle;\n",
       "    }\n",
       "\n",
       "    .dataframe tbody tr th {\n",
       "        vertical-align: top;\n",
       "    }\n",
       "\n",
       "    .dataframe thead th {\n",
       "        text-align: right;\n",
       "    }\n",
       "</style>\n",
       "<table border=\"1\" class=\"dataframe\">\n",
       "  <thead>\n",
       "    <tr style=\"text-align: right;\">\n",
       "      <th>Product</th>\n",
       "      <th>KP281</th>\n",
       "      <th>KP481</th>\n",
       "      <th>KP781</th>\n",
       "    </tr>\n",
       "    <tr>\n",
       "      <th>Usage</th>\n",
       "      <th></th>\n",
       "      <th></th>\n",
       "      <th></th>\n",
       "    </tr>\n",
       "  </thead>\n",
       "  <tbody>\n",
       "    <tr>\n",
       "      <th>2</th>\n",
       "      <td>0.575758</td>\n",
       "      <td>0.424242</td>\n",
       "      <td>0.000000</td>\n",
       "    </tr>\n",
       "    <tr>\n",
       "      <th>3</th>\n",
       "      <td>0.536232</td>\n",
       "      <td>0.449275</td>\n",
       "      <td>0.014493</td>\n",
       "    </tr>\n",
       "    <tr>\n",
       "      <th>4</th>\n",
       "      <td>0.423077</td>\n",
       "      <td>0.230769</td>\n",
       "      <td>0.346154</td>\n",
       "    </tr>\n",
       "    <tr>\n",
       "      <th>5</th>\n",
       "      <td>0.117647</td>\n",
       "      <td>0.176471</td>\n",
       "      <td>0.705882</td>\n",
       "    </tr>\n",
       "    <tr>\n",
       "      <th>6</th>\n",
       "      <td>0.000000</td>\n",
       "      <td>0.000000</td>\n",
       "      <td>1.000000</td>\n",
       "    </tr>\n",
       "    <tr>\n",
       "      <th>7</th>\n",
       "      <td>0.000000</td>\n",
       "      <td>0.000000</td>\n",
       "      <td>1.000000</td>\n",
       "    </tr>\n",
       "    <tr>\n",
       "      <th>All</th>\n",
       "      <td>0.444444</td>\n",
       "      <td>0.333333</td>\n",
       "      <td>0.222222</td>\n",
       "    </tr>\n",
       "  </tbody>\n",
       "</table>\n",
       "</div>"
      ],
      "text/plain": [
       "Product     KP281     KP481     KP781\n",
       "Usage                                \n",
       "2        0.575758  0.424242  0.000000\n",
       "3        0.536232  0.449275  0.014493\n",
       "4        0.423077  0.230769  0.346154\n",
       "5        0.117647  0.176471  0.705882\n",
       "6        0.000000  0.000000  1.000000\n",
       "7        0.000000  0.000000  1.000000\n",
       "All      0.444444  0.333333  0.222222"
      ]
     },
     "metadata": {},
     "output_type": "display_data"
    },
    {
     "name": "stdout",
     "output_type": "stream",
     "text": [
      "\n",
      "\n",
      "Table for Fitness vs Treadmill Product\n"
     ]
    },
    {
     "data": {
      "text/html": [
       "<div>\n",
       "<style scoped>\n",
       "    .dataframe tbody tr th:only-of-type {\n",
       "        vertical-align: middle;\n",
       "    }\n",
       "\n",
       "    .dataframe tbody tr th {\n",
       "        vertical-align: top;\n",
       "    }\n",
       "\n",
       "    .dataframe thead th {\n",
       "        text-align: right;\n",
       "    }\n",
       "</style>\n",
       "<table border=\"1\" class=\"dataframe\">\n",
       "  <thead>\n",
       "    <tr style=\"text-align: right;\">\n",
       "      <th>Product</th>\n",
       "      <th>KP281</th>\n",
       "      <th>KP481</th>\n",
       "      <th>KP781</th>\n",
       "    </tr>\n",
       "    <tr>\n",
       "      <th>Fitness</th>\n",
       "      <th></th>\n",
       "      <th></th>\n",
       "      <th></th>\n",
       "    </tr>\n",
       "  </thead>\n",
       "  <tbody>\n",
       "    <tr>\n",
       "      <th>1</th>\n",
       "      <td>0.500000</td>\n",
       "      <td>0.500000</td>\n",
       "      <td>0.000000</td>\n",
       "    </tr>\n",
       "    <tr>\n",
       "      <th>2</th>\n",
       "      <td>0.538462</td>\n",
       "      <td>0.461538</td>\n",
       "      <td>0.000000</td>\n",
       "    </tr>\n",
       "    <tr>\n",
       "      <th>3</th>\n",
       "      <td>0.556701</td>\n",
       "      <td>0.402062</td>\n",
       "      <td>0.041237</td>\n",
       "    </tr>\n",
       "    <tr>\n",
       "      <th>4</th>\n",
       "      <td>0.375000</td>\n",
       "      <td>0.333333</td>\n",
       "      <td>0.291667</td>\n",
       "    </tr>\n",
       "    <tr>\n",
       "      <th>5</th>\n",
       "      <td>0.064516</td>\n",
       "      <td>0.000000</td>\n",
       "      <td>0.935484</td>\n",
       "    </tr>\n",
       "    <tr>\n",
       "      <th>All</th>\n",
       "      <td>0.444444</td>\n",
       "      <td>0.333333</td>\n",
       "      <td>0.222222</td>\n",
       "    </tr>\n",
       "  </tbody>\n",
       "</table>\n",
       "</div>"
      ],
      "text/plain": [
       "Product     KP281     KP481     KP781\n",
       "Fitness                              \n",
       "1        0.500000  0.500000  0.000000\n",
       "2        0.538462  0.461538  0.000000\n",
       "3        0.556701  0.402062  0.041237\n",
       "4        0.375000  0.333333  0.291667\n",
       "5        0.064516  0.000000  0.935484\n",
       "All      0.444444  0.333333  0.222222"
      ]
     },
     "metadata": {},
     "output_type": "display_data"
    },
    {
     "name": "stdout",
     "output_type": "stream",
     "text": [
      "\n",
      "\n",
      "Table for Age_type vs Treadmill Product\n"
     ]
    },
    {
     "data": {
      "text/html": [
       "<div>\n",
       "<style scoped>\n",
       "    .dataframe tbody tr th:only-of-type {\n",
       "        vertical-align: middle;\n",
       "    }\n",
       "\n",
       "    .dataframe tbody tr th {\n",
       "        vertical-align: top;\n",
       "    }\n",
       "\n",
       "    .dataframe thead th {\n",
       "        text-align: right;\n",
       "    }\n",
       "</style>\n",
       "<table border=\"1\" class=\"dataframe\">\n",
       "  <thead>\n",
       "    <tr style=\"text-align: right;\">\n",
       "      <th>Product</th>\n",
       "      <th>KP281</th>\n",
       "      <th>KP481</th>\n",
       "      <th>KP781</th>\n",
       "    </tr>\n",
       "    <tr>\n",
       "      <th>Age_type</th>\n",
       "      <th></th>\n",
       "      <th></th>\n",
       "      <th></th>\n",
       "    </tr>\n",
       "  </thead>\n",
       "  <tbody>\n",
       "    <tr>\n",
       "      <th>Young</th>\n",
       "      <td>0.458333</td>\n",
       "      <td>0.291667</td>\n",
       "      <td>0.250000</td>\n",
       "    </tr>\n",
       "    <tr>\n",
       "      <th>Middle_Aged</th>\n",
       "      <td>0.395833</td>\n",
       "      <td>0.479167</td>\n",
       "      <td>0.125000</td>\n",
       "    </tr>\n",
       "    <tr>\n",
       "      <th>Old</th>\n",
       "      <td>0.500000</td>\n",
       "      <td>0.166667</td>\n",
       "      <td>0.333333</td>\n",
       "    </tr>\n",
       "    <tr>\n",
       "      <th>All</th>\n",
       "      <td>0.444444</td>\n",
       "      <td>0.333333</td>\n",
       "      <td>0.222222</td>\n",
       "    </tr>\n",
       "  </tbody>\n",
       "</table>\n",
       "</div>"
      ],
      "text/plain": [
       "Product         KP281     KP481     KP781\n",
       "Age_type                                 \n",
       "Young        0.458333  0.291667  0.250000\n",
       "Middle_Aged  0.395833  0.479167  0.125000\n",
       "Old          0.500000  0.166667  0.333333\n",
       "All          0.444444  0.333333  0.222222"
      ]
     },
     "metadata": {},
     "output_type": "display_data"
    },
    {
     "name": "stdout",
     "output_type": "stream",
     "text": [
      "\n",
      "\n",
      "Table for Income_Level vs Treadmill Product\n"
     ]
    },
    {
     "data": {
      "text/html": [
       "<div>\n",
       "<style scoped>\n",
       "    .dataframe tbody tr th:only-of-type {\n",
       "        vertical-align: middle;\n",
       "    }\n",
       "\n",
       "    .dataframe tbody tr th {\n",
       "        vertical-align: top;\n",
       "    }\n",
       "\n",
       "    .dataframe thead th {\n",
       "        text-align: right;\n",
       "    }\n",
       "</style>\n",
       "<table border=\"1\" class=\"dataframe\">\n",
       "  <thead>\n",
       "    <tr style=\"text-align: right;\">\n",
       "      <th>Product</th>\n",
       "      <th>KP281</th>\n",
       "      <th>KP481</th>\n",
       "      <th>KP781</th>\n",
       "    </tr>\n",
       "    <tr>\n",
       "      <th>Income_Level</th>\n",
       "      <th></th>\n",
       "      <th></th>\n",
       "      <th></th>\n",
       "    </tr>\n",
       "  </thead>\n",
       "  <tbody>\n",
       "    <tr>\n",
       "      <th>Low</th>\n",
       "      <td>0.578313</td>\n",
       "      <td>0.361446</td>\n",
       "      <td>0.060241</td>\n",
       "    </tr>\n",
       "    <tr>\n",
       "      <th>Medium</th>\n",
       "      <td>0.410256</td>\n",
       "      <td>0.384615</td>\n",
       "      <td>0.205128</td>\n",
       "    </tr>\n",
       "    <tr>\n",
       "      <th>High</th>\n",
       "      <td>0.000000</td>\n",
       "      <td>0.000000</td>\n",
       "      <td>1.000000</td>\n",
       "    </tr>\n",
       "    <tr>\n",
       "      <th>All</th>\n",
       "      <td>0.444444</td>\n",
       "      <td>0.333333</td>\n",
       "      <td>0.222222</td>\n",
       "    </tr>\n",
       "  </tbody>\n",
       "</table>\n",
       "</div>"
      ],
      "text/plain": [
       "Product          KP281     KP481     KP781\n",
       "Income_Level                              \n",
       "Low           0.578313  0.361446  0.060241\n",
       "Medium        0.410256  0.384615  0.205128\n",
       "High          0.000000  0.000000  1.000000\n",
       "All           0.444444  0.333333  0.222222"
      ]
     },
     "metadata": {},
     "output_type": "display_data"
    },
    {
     "name": "stdout",
     "output_type": "stream",
     "text": [
      "\n",
      "\n",
      "Table for Mile_bins vs Treadmill Product\n"
     ]
    },
    {
     "data": {
      "text/html": [
       "<div>\n",
       "<style scoped>\n",
       "    .dataframe tbody tr th:only-of-type {\n",
       "        vertical-align: middle;\n",
       "    }\n",
       "\n",
       "    .dataframe tbody tr th {\n",
       "        vertical-align: top;\n",
       "    }\n",
       "\n",
       "    .dataframe thead th {\n",
       "        text-align: right;\n",
       "    }\n",
       "</style>\n",
       "<table border=\"1\" class=\"dataframe\">\n",
       "  <thead>\n",
       "    <tr style=\"text-align: right;\">\n",
       "      <th>Product</th>\n",
       "      <th>KP281</th>\n",
       "      <th>KP481</th>\n",
       "      <th>KP781</th>\n",
       "    </tr>\n",
       "    <tr>\n",
       "      <th>Mile_bins</th>\n",
       "      <th></th>\n",
       "      <th></th>\n",
       "      <th></th>\n",
       "    </tr>\n",
       "  </thead>\n",
       "  <tbody>\n",
       "    <tr>\n",
       "      <th>&lt;50</th>\n",
       "      <td>0.705882</td>\n",
       "      <td>0.294118</td>\n",
       "      <td>0.000000</td>\n",
       "    </tr>\n",
       "    <tr>\n",
       "      <th>50-100</th>\n",
       "      <td>0.515464</td>\n",
       "      <td>0.402062</td>\n",
       "      <td>0.082474</td>\n",
       "    </tr>\n",
       "    <tr>\n",
       "      <th>100-150</th>\n",
       "      <td>0.421053</td>\n",
       "      <td>0.342105</td>\n",
       "      <td>0.236842</td>\n",
       "    </tr>\n",
       "    <tr>\n",
       "      <th>150+</th>\n",
       "      <td>0.071429</td>\n",
       "      <td>0.107143</td>\n",
       "      <td>0.821429</td>\n",
       "    </tr>\n",
       "    <tr>\n",
       "      <th>All</th>\n",
       "      <td>0.444444</td>\n",
       "      <td>0.333333</td>\n",
       "      <td>0.222222</td>\n",
       "    </tr>\n",
       "  </tbody>\n",
       "</table>\n",
       "</div>"
      ],
      "text/plain": [
       "Product       KP281     KP481     KP781\n",
       "Mile_bins                              \n",
       "<50        0.705882  0.294118  0.000000\n",
       "50-100     0.515464  0.402062  0.082474\n",
       "100-150    0.421053  0.342105  0.236842\n",
       "150+       0.071429  0.107143  0.821429\n",
       "All        0.444444  0.333333  0.222222"
      ]
     },
     "metadata": {},
     "output_type": "display_data"
    },
    {
     "name": "stdout",
     "output_type": "stream",
     "text": [
      "\n",
      "\n"
     ]
    }
   ],
   "source": [
    "from IPython.display import display\n",
    "for i in cat_cols:\n",
    "  print('Table for',str(i),'vs Treadmill Product')\n",
    "  display(pd.crosstab(df[i], df['Product'], margins=True, normalize='index'))\n",
    "  print(\"\\n\")"
   ]
  },
  {
   "cell_type": "markdown",
   "metadata": {},
   "source": [
    "**Brief depiction of Probabilities Inferred from the above tables**\n",
    "\n",
    "1) In all the tables, one can see the last row named All, it consists of the overall probabilities of purchases of those 3 treadmills, i.e. - Probability of purchase of KP281= 44.44%, KP481= 33.33% and KP781=22.22%\n",
    "\n",
    "2) P(KP281|Education=12) = 66.66% and P(KP781|Education=18) = 82.6%\n",
    "   P(KP781|Education=20) = P(KP781|Education=21) = 100%\n",
    "\n",
    "3) P(KP281|Usage=2) = 57.57%, P(KP781|Usage=6)=P(KP781|Usage=7) = 100%\n",
    "\n",
    "4) P(KP481|Fitness=2) = 46.15%\n",
    "\n",
    "5) P(KP481|Age_bins=30-35) = 53.12% \n",
    "\n",
    "6) P(KP781|Income>70000) = 100% and P(KP481|Income_bins=45000-50000) = 44.11%\n",
    "\n",
    "7) P(KP281|Mile_bins<50) = 70.5% and  P(KP781|Mile_bins>150)=82.1%"
   ]
  },
  {
   "cell_type": "markdown",
   "metadata": {},
   "source": [
    "# Observations:\n",
    "### Characteristics of data:\n",
    "- The dataset has 180 records with with 3 categorical and 6 numerical features\n",
    "- There are no null values in the data so we don't have to change anything.\n",
    "- The datatypes assigned to each of the attributes are right and don't need any intervention.\n",
    "- There are three unique products and the 'KP281' seems to be the best selling product\n",
    "- Most customers are male and most of them are partnered\n",
    "\n",
    "### Distribution:\n",
    "- Most customers are young and lie between the age range of 20 to 30 years old\n",
    "- Majority of the customer have studied for 14 to 16 years\n",
    "- Most customers will use the treadmills for 3-4 hours and less number of people will be using treadmills for more than 4 hours.\n",
    "- Majority of the customers consider their fitness in the average fitness range, while very less people with lower fitness levels are customers.\n",
    "- The income distribution is right skewed indicating the majority of customers have income range between 30K and 60K. And there are very less people with income more that 60K\n",
    "- Similar to income the distribution for the average miles covered by the customers is right skewed, again indicating majority of the people tend to cover 50 to 120 miles per week on an average. Very few people cover more than 200 miles.\n",
    "\n",
    "### Outlier Detecttion:\n",
    "- We have Income and Miles fields with more than 10% outliers\n",
    "\n",
    "### Univariate & Bivariate Analysis\n",
    "\n",
    "**Age**\n",
    "- For the products KP281 & KP481 mostly the customer age lies in the range of 23 to 33 years.\n",
    "- While the customers purchasing product-KP781 are on the younger side ranging in between 25 to 30 years old.\n",
    "\n",
    "**Gender**\n",
    "- For the products KP281 & KP481 the customers are equally distributed in terms of gender, however, for product KP781 the number of male customers is way higher than the number of females.\n",
    "\n",
    "**Income**\n",
    "- Customers with higher income range of 60000 to 90000 are buying the KP781 product. \n",
    "- Mostly the income for KP281 customers lie in between 40000 to 52000 and for KP482 customers it lies in between 47000 to 52000.\n",
    "\n",
    "**Usage**\n",
    "- Females customers buying higher end product have more usage as compared to men, and it's completely opposite for the lower end products.\n",
    "- Partenered customers have more usage as compared to single customers\n",
    "\n",
    "**Fitness Level**\n",
    "- The customers from both the genders buying the higher end product i.e. KP781 claim to have better fitness level than customers with lower end product i.e. KP281 & KP481\n",
    "- Similar is the case with marital status\n",
    "\n",
    "**Miles Covered**\n",
    "- Both male and female customers having higher end product cover more miles per week that the customers with lower end product\n",
    "- Similar is the case with marital status\n",
    "\n",
    "**Corelation**\n",
    "- Miles covered and fitness fields have high corelation, indicating the more miles you cover the better will be the fitness\n",
    "- Also, miles and usage have higer corelation, suggesting higher the usage, higher will be the miles covered.\n",
    "- Cost and income too has higher corelation, again suggesting higher the income, more costly will be the product bought.\n",
    "\n",
    "### Probabilities\n",
    "\n",
    "**Marginal Probabilities:**\n",
    "\n",
    "    Probability of being a male customer is : 57.78 %\n",
    "    Probability of being a female customer is : 42.22 %\n",
    "\n",
    "    Probability of buying KP281 model : 44.44 %\n",
    "    Probability of buying KP281 model : 33.33 %\n",
    "    Probability of buying KP781 model : 22.22 %\n",
    "\n",
    "    Probability of buying a lower end product : 44.44 %\n",
    "    Probability of buying averagly priced product : 33.33 %\n",
    "    Probability of buying higher end product : 22.22 %\n",
    "\n",
    "    Probability of having lower usage hours per week : 56.67 %\n",
    "    Probability of having medium usage hours per week : 42.22 %\n",
    "    Probability of having higher usage hours per week : 1.11 %\n",
    "\n",
    "    Probability of customer with lower income level : 46.11 %\n",
    "    Probability of customer with medium income level : 43.33 %\n",
    "    Probability of customer with higher income level : 10.56 %\n",
    "    \n",
    "- The probabilities on lower end of the spectrum for each of the numerical features is higher, followed by mid spectrum which is followed by higher end spectrum which has the lowest probability of occurence.\n",
    "- On the other hand customers with higher income have 100% probability of buying higher end product while they have 0% chance of buying lowe end product\n",
    "\n",
    "**Conditional Probability**\n",
    "\n",
    "Probability of buying various products given different income level of customers\n",
    "- The customer with lower income have 57.83% chance of buying the KP281 product which is a low cost product with price of 1500 while, they have 0 % probability of buying the model KP781 which is higher end model with cost of 2500.\n",
    "\n",
    "Probability of buying the products given different Fitness level of customers\n",
    "- The customers with lower fitness level don't have 0 % probability of buying higher end products (KP781), however their probability of buying the lower end and mid level products is 57 % and 46 % respectively.\n",
    "- On the other hand customers with higher fitness level have 65% probability of buying higher end products and probability of them buying a lower end or mid range product is less that 20%\n",
    "\n",
    "Probabilty of customer buying products given their age range \n",
    "- The probability of customer buying the KP281 model is higher for every age group with probabilities ranging from 40% to 50%.\n",
    "- While probability of customer buying the KP781 model is higher for young (25%) and old customers (33.33%) but less for middle aged customers (12.5%).\n",
    "\n",
    "Probability of customers buying products given their gender\n",
    "- Male customers have somewhat equivallent probabilities in the range of 30-40% while buying products in different price range.\n",
    "- Female customers have higher probabilty of buying lower end products (KP281 and KP481) with probability in the range of 35 - 55 %. \n"
   ]
  },
  {
   "cell_type": "markdown",
   "metadata": {},
   "source": [
    "# Customer Profiling\n",
    "\n",
    "**Customer Profiles for KP781**\n",
    "<br>\n",
    "\n",
    "1) Only people having incomes greater than 70k have run over 220 miles and all of then use KP781.\n",
    "\n",
    "2) Recommend KP781 if one or more conditions are satisfied along with a necessary condition of Income > 70000:-\n",
    "<br>\n",
    "    a) Education Level >= 18\n",
    "    b) Usage days > = 5 \n",
    "    c) Fitness Levels = 5 \n",
    "    d) The person runs more than 150 miles(80% of them use KP781)\n",
    "\n",
    "3) Never Recommend KP781 if one or more of these conditions are satisfied:-\n",
    "<br>\n",
    "    a) Education Levels < 14\n",
    "    b) Fitness < 3\n",
    "    c) Age < 20\n",
    "    d)Income < 45000\n",
    "    e) Miles run < 50 \n",
    "\n",
    "**Why very few women have bought the luxurious KP781 treadmill?**\n",
    "<br>\n",
    "Only 2 women have incomes over 70k which is certainly the reason for a large proportion of them not buying KP781(affordability).\n",
    "\n",
    "\n",
    "**Note for below mentioned points**\n",
    "KP281 and KP481 don't have much differences in their costs and the characteristics of customers who use them . Still a few of them have been identified but they need to be validated with an incremental data.\n",
    "\n",
    "**Customer Profiles for KP281:**\n",
    "\n",
    "1) Women having incomes below 70k and age > 40 \n",
    "<br>\n",
    "2) Customers having income in range 60k-70k and usage days=3 \n",
    "<br>\n",
    "3) Customers having income in range 45k-50k and usage days=2\n",
    "<br> \n",
    "4) Customers having income in range 35k-45k and usage days=4 \n",
    "<br>\n",
    "5) Customers having income in range 50k-60k and usage days=4\n",
    "<br>\n",
    "6) Customers with Fitness=4, age closer to 40 and income 50k-60k\n",
    "<br>\n",
    "7) Customers with Education Level=16, Age>32 and income 45k-50k\n",
    "<br>\n",
    "8) Customers with Education Level=16, Age>45 and income 60k-70k\n",
    "<br>\n",
    "9) Customers with Age in 25-30 and 35-40 having incomes in range 35k-45k \n",
    "<br>\n",
    "10) Customers with 40+ Age and 60k-70k income\n",
    "<br>\n",
    "11) Women with incomes < 35k and whose miles run < 105 \n",
    "<br>\n",
    "12) Customers with usages=5, incomes in range 35k-45k and who run more than 140 miles\n",
    "<br>\n",
    "13) Customers with Fitness=5, incomes < 70k and Incomes in 45k-50k\n",
    "<br>\n",
    "14) Customers with Education level=15 having incomes less than 35k\n",
    "<br>\n",
    "15) Customers with Usages=3, miles run < 70 and Age>40\n",
    "<br>\n",
    "16) Customers with Usages=2 and Age between 25-30\n",
    "\n",
    "\n",
    "**Customer Profiles for KP481:**\n",
    "\n",
    "1) Women having incomes below 70k and age between 32-37 \n",
    "<br>\n",
    "2) Customers with age < 25, incomes in range 50-60k and the miles run is in the range 100-150\n",
    "<br>\n",
    "3) Customers with Fitness=4, age in range 25-32 and income 50k-60k\n",
    "<br>\n",
    "4) Customers with Education Level=16, Age< 22 and income 45k-50k\n",
    "<br>\n",
    "5) Customers with Education Level=16, Age< 35 and income 60k-70k\n",
    "<br>\n",
    "6) Customers with 35-40 Age and 60k-70k income\n",
    "<br>\n",
    "7) Women with incomes < 35k and whose miles run >105\n",
    "<br>\n",
    "8) Men with incomes 60k-70k and who tread in range 100-150 miles \n",
    "<br>\n",
    "9) Customers with Fitness=4, incomes < 45k-50k and who run more than 100 miles\n",
    "<br>\n",
    "10) Customers with Education level=13 having incomes in ranges 45-60k\n",
    "<br>\n",
    "11) Customers with Usages=2 and Age>40"
   ]
  },
  {
   "cell_type": "markdown",
   "metadata": {},
   "source": [
    "# Recommendations\n",
    "\n",
    "Lower end products = KP281,KP481\n",
    "Higher end product = KP781\n",
    "\n",
    "1. As most of the customers buying the products are young and they have 40-50% probability of buying lower end products and 25% probability of buying higher end product, Aerofit should be focusing more on young customers & use this opportunity to upsell the products.\n",
    "2. Male customers have higher probability (30-40%) of buying expensive products while female customers have higher probability (35-55%) for buying lower end products, Aerofit should leverage these traits and pitch the products accordingly.\n",
    "3. Customers with higher income in the range of 80000 to 120000 have 100%  probabilty of buying higher end products & 0% chance of buying lower end product. Hence, Aerofit should always sell their top products to these customers to improve sells and inturn profits.\n",
    "4. Customer with higher self rated fitness have 65% probability of buying higher end product, hence we should leverage this opportuniny to pitch the best products to people rating themselves higher on the fitness scale.\n",
    "5. Both fitness and miles covered are highly corelated and hence follow the same trend."
   ]
  }
 ],
 "metadata": {
  "kernelspec": {
   "display_name": "Python 3 (ipykernel)",
   "language": "python",
   "name": "python3"
  },
  "language_info": {
   "codemirror_mode": {
    "name": "ipython",
    "version": 3
   },
   "file_extension": ".py",
   "mimetype": "text/x-python",
   "name": "python",
   "nbconvert_exporter": "python",
   "pygments_lexer": "ipython3",
   "version": "3.9.13"
  }
 },
 "nbformat": 4,
 "nbformat_minor": 4
}
